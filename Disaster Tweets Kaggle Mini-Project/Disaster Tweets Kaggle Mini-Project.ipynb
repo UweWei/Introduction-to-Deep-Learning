{
 "cells": [
  {
   "cell_type": "markdown",
   "id": "db3996f0-75d7-46f0-b45c-1c2707969ed2",
   "metadata": {},
   "source": [
    "## Disaster Tweets Project\n",
    "\n",
    "### Introduction to problem and data\n",
    "\n",
    "With social media quickly becoming one of the primary ways that people get news, it becomes important to be able to classify social media messages as they are posted to more easily search and propagate important messages. Machine learning, specifically NLP models, provide an automated way to parse a central meaning out of such messages to determine their context.\n",
    "\n",
    "In this project, we will sample a dataset of tweets split between tweets about disasters and regular tweets to attempt to identify which tweets are about emergencies.\n",
    "\n",
    "The dataset we will be working with has 10000 rows with each row containing the raw text of a tweet, an id, and a target column that indicates 1 if the tweet is about a disaster. Some rows additionally contain a location and/or a keyword related to the tweet.\n",
    "\n",
    "Github Repo: https://github.com/Midelan/DisasterTweetsKaggle/blob/main/DisasterTweetsKaggle.ipynb"
   ]
  },
  {
   "cell_type": "code",
   "execution_count": 3,
   "id": "300d6eff-3336-4d42-b6e5-6efcafec7a90",
   "metadata": {},
   "outputs": [
    {
     "name": "stderr",
     "output_type": "stream",
     "text": [
      "2024-10-13 19:46:38.829369: I tensorflow/core/util/port.cc:153] oneDNN custom operations are on. You may see slightly different numerical results due to floating-point round-off errors from different computation orders. To turn them off, set the environment variable `TF_ENABLE_ONEDNN_OPTS=0`.\n",
      "2024-10-13 19:46:38.829809: I external/local_xla/xla/tsl/cuda/cudart_stub.cc:32] Could not find cuda drivers on your machine, GPU will not be used.\n",
      "2024-10-13 19:46:38.831978: I external/local_xla/xla/tsl/cuda/cudart_stub.cc:32] Could not find cuda drivers on your machine, GPU will not be used.\n",
      "2024-10-13 19:46:38.837860: E external/local_xla/xla/stream_executor/cuda/cuda_fft.cc:485] Unable to register cuFFT factory: Attempting to register factory for plugin cuFFT when one has already been registered\n",
      "2024-10-13 19:46:38.858209: E external/local_xla/xla/stream_executor/cuda/cuda_dnn.cc:8454] Unable to register cuDNN factory: Attempting to register factory for plugin cuDNN when one has already been registered\n",
      "2024-10-13 19:46:38.861693: E external/local_xla/xla/stream_executor/cuda/cuda_blas.cc:1452] Unable to register cuBLAS factory: Attempting to register factory for plugin cuBLAS when one has already been registered\n",
      "2024-10-13 19:46:38.873904: I tensorflow/core/platform/cpu_feature_guard.cc:210] This TensorFlow binary is optimized to use available CPU instructions in performance-critical operations.\n",
      "To enable the following instructions: AVX2 AVX512F AVX512_VNNI AVX512_BF16 FMA, in other operations, rebuild TensorFlow with the appropriate compiler flags.\n",
      "2024-10-13 19:46:40.134338: W tensorflow/compiler/tf2tensorrt/utils/py_utils.cc:38] TF-TRT Warning: Could not find TensorRT\n"
     ]
    }
   ],
   "source": [
    "import tensorflow as tf\n",
    "import tensorflow_io as tfio\n",
    "import pandas as pd\n",
    "import os\n",
    "import matplotlib.pyplot as plt\n",
    "import numpy as np\n",
    "from tensorflow.keras.preprocessing import image\n",
    "from tensorflow import keras\n",
    "import nltk\n",
    "from nltk.corpus import stopwords\n",
    "import string\n",
    "from nltk.stem import WordNetLemmatizer\n",
    "from tensorflow.keras.preprocessing.text import Tokenizer\n",
    "from keras.preprocessing.sequence import pad_sequences\n",
    "from sklearn.model_selection import train_test_split\n",
    "import keras_tuner"
   ]
  },
  {
   "cell_type": "markdown",
   "id": "3cf01f87-92f8-488a-a501-8572a6fda26e",
   "metadata": {},
   "source": [
    "### Exploratory Data Analysis\n",
    "\n",
    "Observing our data we see two immediate concerns:\n",
    "\n",
    "1.) Many rows are missing keywords and locations. Since this model is observing individual tweets the location is unlikely to be useful, any location can have a disaster. This will be mentioned again in areas for future research. Additionally since this excercise is to extract the meaning of the text we have decided not to use the keyword field, not only is it missing for much of our training data, but also training a model on keywords may make it difficult to use the model for it's intended purpose as most data in the field will not come pre labelled with a keyword.\n",
    "\n",
    "2.) Tweets in the dataset have many variations on words, and extraneous characters. To solve this we use the popular nltk dataset to remove all stopwords (words such as \"a\", \"the\" or \"is\" that do not provide information about the subject of the tweet) punctuation (as an example \"avalanche!\" and \"avalanche.\" likely are not significantly different in meaning, and having them as separate words in a small dataset probably loses more value than it gains.) and words three or less characters long (for similar reasons to stopwords, when we graphed the word frequency most short words were extremely common, meaning they do not provide much insight into what type of tweet a given string is as these short words are found in most tweets)\n",
    "\n",
    "Finally we lemmatize words, which allows us to combine many forms of similar words such as running, runner, and run, as again they likely all have very similar meaning in tweets, and remove any remaining singleton words that only appear in one tweet. This removes misspellings, usernames, urls, and other such one off terms that are unlikely enough to appear in future tweets that they will not benefit our predictions. As shown this drops our dicitonary of relevant words to a manageable 4226.\n",
    "\n",
    "We also graph our distribution of data between disaster tweets and non-disaster tweets, and while our data is slightly unbalanced in favor of non-disaster tweets, it stands to reason that most tweets in the real world will not be about disasters, so we choose to use the dataset as is instead of balancing it further."
   ]
  },
  {
   "cell_type": "code",
   "execution_count": 4,
   "id": "dc8205f6-3914-4906-924f-74b643a4593d",
   "metadata": {},
   "outputs": [
    {
     "name": "stderr",
     "output_type": "stream",
     "text": [
      "[nltk_data] Downloading package stopwords to\n",
      "[nltk_data]     /home/midelan/nltk_data...\n",
      "[nltk_data]   Package stopwords is already up-to-date!\n",
      "[nltk_data] Downloading package wordnet to /home/midelan/nltk_data...\n",
      "[nltk_data]   Package wordnet is already up-to-date!\n",
      "[nltk_data] Downloading package punkt_tab to\n",
      "[nltk_data]     /home/midelan/nltk_data...\n",
      "[nltk_data]   Package punkt_tab is already up-to-date!\n"
     ]
    },
    {
     "data": {
      "text/plain": [
       "True"
      ]
     },
     "execution_count": 4,
     "metadata": {},
     "output_type": "execute_result"
    }
   ],
   "source": [
    "nltk.download('stopwords')\n",
    "nltk.download('wordnet')\n",
    "nltk.download('punkt_tab')"
   ]
  },
  {
   "cell_type": "code",
   "execution_count": 5,
   "id": "bc4af0df-946a-4cbe-884c-e2e686588d1f",
   "metadata": {},
   "outputs": [],
   "source": [
    "os.getcwd()\n",
    "notebook_path = os.path.abspath(\"DisasterTweetsKaggle.ipynb\")\n",
    "data_path = os.path.join(os.path.dirname(notebook_path), \"RawImports/train.csv\")\n",
    "data = pd.read_csv(data_path)"
   ]
  },
  {
   "cell_type": "code",
   "execution_count": 6,
   "id": "3637f9a9-824b-4af1-bec9-69b9113f654f",
   "metadata": {},
   "outputs": [
    {
     "data": {
      "text/html": [
       "<div>\n",
       "<style scoped>\n",
       "    .dataframe tbody tr th:only-of-type {\n",
       "        vertical-align: middle;\n",
       "    }\n",
       "\n",
       "    .dataframe tbody tr th {\n",
       "        vertical-align: top;\n",
       "    }\n",
       "\n",
       "    .dataframe thead th {\n",
       "        text-align: right;\n",
       "    }\n",
       "</style>\n",
       "<table border=\"1\" class=\"dataframe\">\n",
       "  <thead>\n",
       "    <tr style=\"text-align: right;\">\n",
       "      <th></th>\n",
       "      <th>id</th>\n",
       "      <th>keyword</th>\n",
       "      <th>location</th>\n",
       "      <th>text</th>\n",
       "      <th>target</th>\n",
       "    </tr>\n",
       "  </thead>\n",
       "  <tbody>\n",
       "    <tr>\n",
       "      <th>0</th>\n",
       "      <td>1</td>\n",
       "      <td>NaN</td>\n",
       "      <td>NaN</td>\n",
       "      <td>Our Deeds are the Reason of this #earthquake M...</td>\n",
       "      <td>1</td>\n",
       "    </tr>\n",
       "    <tr>\n",
       "      <th>1</th>\n",
       "      <td>4</td>\n",
       "      <td>NaN</td>\n",
       "      <td>NaN</td>\n",
       "      <td>Forest fire near La Ronge Sask. Canada</td>\n",
       "      <td>1</td>\n",
       "    </tr>\n",
       "    <tr>\n",
       "      <th>2</th>\n",
       "      <td>5</td>\n",
       "      <td>NaN</td>\n",
       "      <td>NaN</td>\n",
       "      <td>All residents asked to 'shelter in place' are ...</td>\n",
       "      <td>1</td>\n",
       "    </tr>\n",
       "    <tr>\n",
       "      <th>3</th>\n",
       "      <td>6</td>\n",
       "      <td>NaN</td>\n",
       "      <td>NaN</td>\n",
       "      <td>13,000 people receive #wildfires evacuation or...</td>\n",
       "      <td>1</td>\n",
       "    </tr>\n",
       "    <tr>\n",
       "      <th>4</th>\n",
       "      <td>7</td>\n",
       "      <td>NaN</td>\n",
       "      <td>NaN</td>\n",
       "      <td>Just got sent this photo from Ruby #Alaska as ...</td>\n",
       "      <td>1</td>\n",
       "    </tr>\n",
       "  </tbody>\n",
       "</table>\n",
       "</div>"
      ],
      "text/plain": [
       "   id keyword location                                               text  \\\n",
       "0   1     NaN      NaN  Our Deeds are the Reason of this #earthquake M...   \n",
       "1   4     NaN      NaN             Forest fire near La Ronge Sask. Canada   \n",
       "2   5     NaN      NaN  All residents asked to 'shelter in place' are ...   \n",
       "3   6     NaN      NaN  13,000 people receive #wildfires evacuation or...   \n",
       "4   7     NaN      NaN  Just got sent this photo from Ruby #Alaska as ...   \n",
       "\n",
       "   target  \n",
       "0       1  \n",
       "1       1  \n",
       "2       1  \n",
       "3       1  \n",
       "4       1  "
      ]
     },
     "execution_count": 6,
     "metadata": {},
     "output_type": "execute_result"
    }
   ],
   "source": [
    "data.head()"
   ]
  },
  {
   "cell_type": "code",
   "execution_count": 7,
   "id": "5e84b50b-1c6e-40f5-9044-25c5517d70ca",
   "metadata": {},
   "outputs": [
    {
     "data": {
      "text/plain": [
       "id             0\n",
       "keyword       61\n",
       "location    2533\n",
       "text           0\n",
       "target         0\n",
       "dtype: int64"
      ]
     },
     "execution_count": 7,
     "metadata": {},
     "output_type": "execute_result"
    }
   ],
   "source": [
    "data.isna().sum()"
   ]
  },
  {
   "cell_type": "code",
   "execution_count": null,
   "id": "b99dde81-36bd-4dc7-8c14-7aef05e6bb36",
   "metadata": {},
   "outputs": [],
   "source": [
    "def removePunctuationAndStops(text):\n",
    "    lemmatizer = WordNetLemmatizer()\n",
    "    stops = stopwords.words(\"english\")\n",
    "    text = text.translate(str.maketrans(\"\", \"\", string.punctuation))\n",
    "    tweet = \"\"\n",
    "    for word in text.split():\n",
    "        lemma = lemmatizer.lemmatize(word)\n",
    "        if word not in stops:\n",
    "            tweet = tweet + \" \" + lemma\n",
    "    return tweet\n",
    "\n",
    "def tokenize(text):\n",
    "    return nltk.tokenize.word_tokenize(text)\n",
    "\n",
    "def removeShortAndInfrequentWords(text, dictionary):\n",
    "    tweet = \"\"\n",
    "    for word in text.split():\n",
    "        if (len(word)>3 and dictionary[word]>2):\n",
    "            tweet = tweet + \" \" + word\n",
    "    return tweet"
   ]
  },
  {
   "cell_type": "code",
   "execution_count": 7,
   "id": "2b208c68-55e9-488b-a7ff-2875d0d3a043",
   "metadata": {},
   "outputs": [],
   "source": [
    "data[\"text_filtered\"] = data.apply(lambda x: removePunctuationAndStops(x['text']), axis=1)"
   ]
  },
  {
   "cell_type": "code",
   "execution_count": 8,
   "id": "973d85ee-c943-4d89-bf73-dcf0340b6781",
   "metadata": {},
   "outputs": [
    {
     "data": {
      "text/html": [
       "<div>\n",
       "<style scoped>\n",
       "    .dataframe tbody tr th:only-of-type {\n",
       "        vertical-align: middle;\n",
       "    }\n",
       "\n",
       "    .dataframe tbody tr th {\n",
       "        vertical-align: top;\n",
       "    }\n",
       "\n",
       "    .dataframe thead th {\n",
       "        text-align: right;\n",
       "    }\n",
       "</style>\n",
       "<table border=\"1\" class=\"dataframe\">\n",
       "  <thead>\n",
       "    <tr style=\"text-align: right;\">\n",
       "      <th></th>\n",
       "      <th>id</th>\n",
       "      <th>keyword</th>\n",
       "      <th>location</th>\n",
       "      <th>text</th>\n",
       "      <th>target</th>\n",
       "      <th>text_filtered</th>\n",
       "    </tr>\n",
       "  </thead>\n",
       "  <tbody>\n",
       "    <tr>\n",
       "      <th>0</th>\n",
       "      <td>1</td>\n",
       "      <td>NaN</td>\n",
       "      <td>NaN</td>\n",
       "      <td>Our Deeds are the Reason of this #earthquake M...</td>\n",
       "      <td>1</td>\n",
       "      <td>Our Deeds Reason earthquake May ALLAH Forgive u</td>\n",
       "    </tr>\n",
       "    <tr>\n",
       "      <th>1</th>\n",
       "      <td>4</td>\n",
       "      <td>NaN</td>\n",
       "      <td>NaN</td>\n",
       "      <td>Forest fire near La Ronge Sask. Canada</td>\n",
       "      <td>1</td>\n",
       "      <td>Forest fire near La Ronge Sask Canada</td>\n",
       "    </tr>\n",
       "    <tr>\n",
       "      <th>2</th>\n",
       "      <td>5</td>\n",
       "      <td>NaN</td>\n",
       "      <td>NaN</td>\n",
       "      <td>All residents asked to 'shelter in place' are ...</td>\n",
       "      <td>1</td>\n",
       "      <td>All resident asked shelter place notified off...</td>\n",
       "    </tr>\n",
       "    <tr>\n",
       "      <th>3</th>\n",
       "      <td>6</td>\n",
       "      <td>NaN</td>\n",
       "      <td>NaN</td>\n",
       "      <td>13,000 people receive #wildfires evacuation or...</td>\n",
       "      <td>1</td>\n",
       "      <td>13000 people receive wildfire evacuation orde...</td>\n",
       "    </tr>\n",
       "    <tr>\n",
       "      <th>4</th>\n",
       "      <td>7</td>\n",
       "      <td>NaN</td>\n",
       "      <td>NaN</td>\n",
       "      <td>Just got sent this photo from Ruby #Alaska as ...</td>\n",
       "      <td>1</td>\n",
       "      <td>Just got sent photo Ruby Alaska smoke wildfir...</td>\n",
       "    </tr>\n",
       "    <tr>\n",
       "      <th>...</th>\n",
       "      <td>...</td>\n",
       "      <td>...</td>\n",
       "      <td>...</td>\n",
       "      <td>...</td>\n",
       "      <td>...</td>\n",
       "      <td>...</td>\n",
       "    </tr>\n",
       "    <tr>\n",
       "      <th>7608</th>\n",
       "      <td>10869</td>\n",
       "      <td>NaN</td>\n",
       "      <td>NaN</td>\n",
       "      <td>Two giant cranes holding a bridge collapse int...</td>\n",
       "      <td>1</td>\n",
       "      <td>Two giant crane holding bridge collapse nearb...</td>\n",
       "    </tr>\n",
       "    <tr>\n",
       "      <th>7609</th>\n",
       "      <td>10870</td>\n",
       "      <td>NaN</td>\n",
       "      <td>NaN</td>\n",
       "      <td>@aria_ahrary @TheTawniest The out of control w...</td>\n",
       "      <td>1</td>\n",
       "      <td>ariaahrary TheTawniest The control wild fire ...</td>\n",
       "    </tr>\n",
       "    <tr>\n",
       "      <th>7610</th>\n",
       "      <td>10871</td>\n",
       "      <td>NaN</td>\n",
       "      <td>NaN</td>\n",
       "      <td>M1.94 [01:04 UTC]?5km S of Volcano Hawaii. htt...</td>\n",
       "      <td>1</td>\n",
       "      <td>M194 0104 UTC5km S Volcano Hawaii httptcozDto...</td>\n",
       "    </tr>\n",
       "    <tr>\n",
       "      <th>7611</th>\n",
       "      <td>10872</td>\n",
       "      <td>NaN</td>\n",
       "      <td>NaN</td>\n",
       "      <td>Police investigating after an e-bike collided ...</td>\n",
       "      <td>1</td>\n",
       "      <td>Police investigating ebike collided car Littl...</td>\n",
       "    </tr>\n",
       "    <tr>\n",
       "      <th>7612</th>\n",
       "      <td>10873</td>\n",
       "      <td>NaN</td>\n",
       "      <td>NaN</td>\n",
       "      <td>The Latest: More Homes Razed by Northern Calif...</td>\n",
       "      <td>1</td>\n",
       "      <td>The Latest More Homes Razed Northern Californ...</td>\n",
       "    </tr>\n",
       "  </tbody>\n",
       "</table>\n",
       "<p>7613 rows × 6 columns</p>\n",
       "</div>"
      ],
      "text/plain": [
       "         id keyword location  \\\n",
       "0         1     NaN      NaN   \n",
       "1         4     NaN      NaN   \n",
       "2         5     NaN      NaN   \n",
       "3         6     NaN      NaN   \n",
       "4         7     NaN      NaN   \n",
       "...     ...     ...      ...   \n",
       "7608  10869     NaN      NaN   \n",
       "7609  10870     NaN      NaN   \n",
       "7610  10871     NaN      NaN   \n",
       "7611  10872     NaN      NaN   \n",
       "7612  10873     NaN      NaN   \n",
       "\n",
       "                                                   text  target  \\\n",
       "0     Our Deeds are the Reason of this #earthquake M...       1   \n",
       "1                Forest fire near La Ronge Sask. Canada       1   \n",
       "2     All residents asked to 'shelter in place' are ...       1   \n",
       "3     13,000 people receive #wildfires evacuation or...       1   \n",
       "4     Just got sent this photo from Ruby #Alaska as ...       1   \n",
       "...                                                 ...     ...   \n",
       "7608  Two giant cranes holding a bridge collapse int...       1   \n",
       "7609  @aria_ahrary @TheTawniest The out of control w...       1   \n",
       "7610  M1.94 [01:04 UTC]?5km S of Volcano Hawaii. htt...       1   \n",
       "7611  Police investigating after an e-bike collided ...       1   \n",
       "7612  The Latest: More Homes Razed by Northern Calif...       1   \n",
       "\n",
       "                                          text_filtered  \n",
       "0       Our Deeds Reason earthquake May ALLAH Forgive u  \n",
       "1                 Forest fire near La Ronge Sask Canada  \n",
       "2      All resident asked shelter place notified off...  \n",
       "3      13000 people receive wildfire evacuation orde...  \n",
       "4      Just got sent photo Ruby Alaska smoke wildfir...  \n",
       "...                                                 ...  \n",
       "7608   Two giant crane holding bridge collapse nearb...  \n",
       "7609   ariaahrary TheTawniest The control wild fire ...  \n",
       "7610   M194 0104 UTC5km S Volcano Hawaii httptcozDto...  \n",
       "7611   Police investigating ebike collided car Littl...  \n",
       "7612   The Latest More Homes Razed Northern Californ...  \n",
       "\n",
       "[7613 rows x 6 columns]"
      ]
     },
     "execution_count": 8,
     "metadata": {},
     "output_type": "execute_result"
    }
   ],
   "source": [
    "data"
   ]
  },
  {
   "cell_type": "code",
   "execution_count": 9,
   "id": "9fc36e16-a312-4fdd-884c-2e854941587d",
   "metadata": {},
   "outputs": [],
   "source": [
    "data[\"tokens\"] = data.apply(lambda x: tokenize(x['text_filtered']), axis=1)"
   ]
  },
  {
   "cell_type": "code",
   "execution_count": 10,
   "id": "cc97e62a-d027-482f-8f7d-ea593aa07e34",
   "metadata": {},
   "outputs": [
    {
     "data": {
      "text/html": [
       "<div>\n",
       "<style scoped>\n",
       "    .dataframe tbody tr th:only-of-type {\n",
       "        vertical-align: middle;\n",
       "    }\n",
       "\n",
       "    .dataframe tbody tr th {\n",
       "        vertical-align: top;\n",
       "    }\n",
       "\n",
       "    .dataframe thead th {\n",
       "        text-align: right;\n",
       "    }\n",
       "</style>\n",
       "<table border=\"1\" class=\"dataframe\">\n",
       "  <thead>\n",
       "    <tr style=\"text-align: right;\">\n",
       "      <th></th>\n",
       "      <th>id</th>\n",
       "      <th>keyword</th>\n",
       "      <th>location</th>\n",
       "      <th>text</th>\n",
       "      <th>target</th>\n",
       "      <th>text_filtered</th>\n",
       "      <th>tokens</th>\n",
       "    </tr>\n",
       "  </thead>\n",
       "  <tbody>\n",
       "    <tr>\n",
       "      <th>0</th>\n",
       "      <td>1</td>\n",
       "      <td>NaN</td>\n",
       "      <td>NaN</td>\n",
       "      <td>Our Deeds are the Reason of this #earthquake M...</td>\n",
       "      <td>1</td>\n",
       "      <td>Our Deeds Reason earthquake May ALLAH Forgive u</td>\n",
       "      <td>[Our, Deeds, Reason, earthquake, May, ALLAH, F...</td>\n",
       "    </tr>\n",
       "    <tr>\n",
       "      <th>1</th>\n",
       "      <td>4</td>\n",
       "      <td>NaN</td>\n",
       "      <td>NaN</td>\n",
       "      <td>Forest fire near La Ronge Sask. Canada</td>\n",
       "      <td>1</td>\n",
       "      <td>Forest fire near La Ronge Sask Canada</td>\n",
       "      <td>[Forest, fire, near, La, Ronge, Sask, Canada]</td>\n",
       "    </tr>\n",
       "    <tr>\n",
       "      <th>2</th>\n",
       "      <td>5</td>\n",
       "      <td>NaN</td>\n",
       "      <td>NaN</td>\n",
       "      <td>All residents asked to 'shelter in place' are ...</td>\n",
       "      <td>1</td>\n",
       "      <td>All resident asked shelter place notified off...</td>\n",
       "      <td>[All, resident, asked, shelter, place, notifie...</td>\n",
       "    </tr>\n",
       "    <tr>\n",
       "      <th>3</th>\n",
       "      <td>6</td>\n",
       "      <td>NaN</td>\n",
       "      <td>NaN</td>\n",
       "      <td>13,000 people receive #wildfires evacuation or...</td>\n",
       "      <td>1</td>\n",
       "      <td>13000 people receive wildfire evacuation orde...</td>\n",
       "      <td>[13000, people, receive, wildfire, evacuation,...</td>\n",
       "    </tr>\n",
       "    <tr>\n",
       "      <th>4</th>\n",
       "      <td>7</td>\n",
       "      <td>NaN</td>\n",
       "      <td>NaN</td>\n",
       "      <td>Just got sent this photo from Ruby #Alaska as ...</td>\n",
       "      <td>1</td>\n",
       "      <td>Just got sent photo Ruby Alaska smoke wildfir...</td>\n",
       "      <td>[Just, got, sent, photo, Ruby, Alaska, smoke, ...</td>\n",
       "    </tr>\n",
       "    <tr>\n",
       "      <th>...</th>\n",
       "      <td>...</td>\n",
       "      <td>...</td>\n",
       "      <td>...</td>\n",
       "      <td>...</td>\n",
       "      <td>...</td>\n",
       "      <td>...</td>\n",
       "      <td>...</td>\n",
       "    </tr>\n",
       "    <tr>\n",
       "      <th>7608</th>\n",
       "      <td>10869</td>\n",
       "      <td>NaN</td>\n",
       "      <td>NaN</td>\n",
       "      <td>Two giant cranes holding a bridge collapse int...</td>\n",
       "      <td>1</td>\n",
       "      <td>Two giant crane holding bridge collapse nearb...</td>\n",
       "      <td>[Two, giant, crane, holding, bridge, collapse,...</td>\n",
       "    </tr>\n",
       "    <tr>\n",
       "      <th>7609</th>\n",
       "      <td>10870</td>\n",
       "      <td>NaN</td>\n",
       "      <td>NaN</td>\n",
       "      <td>@aria_ahrary @TheTawniest The out of control w...</td>\n",
       "      <td>1</td>\n",
       "      <td>ariaahrary TheTawniest The control wild fire ...</td>\n",
       "      <td>[ariaahrary, TheTawniest, The, control, wild, ...</td>\n",
       "    </tr>\n",
       "    <tr>\n",
       "      <th>7610</th>\n",
       "      <td>10871</td>\n",
       "      <td>NaN</td>\n",
       "      <td>NaN</td>\n",
       "      <td>M1.94 [01:04 UTC]?5km S of Volcano Hawaii. htt...</td>\n",
       "      <td>1</td>\n",
       "      <td>M194 0104 UTC5km S Volcano Hawaii httptcozDto...</td>\n",
       "      <td>[M194, 0104, UTC5km, S, Volcano, Hawaii, httpt...</td>\n",
       "    </tr>\n",
       "    <tr>\n",
       "      <th>7611</th>\n",
       "      <td>10872</td>\n",
       "      <td>NaN</td>\n",
       "      <td>NaN</td>\n",
       "      <td>Police investigating after an e-bike collided ...</td>\n",
       "      <td>1</td>\n",
       "      <td>Police investigating ebike collided car Littl...</td>\n",
       "      <td>[Police, investigating, ebike, collided, car, ...</td>\n",
       "    </tr>\n",
       "    <tr>\n",
       "      <th>7612</th>\n",
       "      <td>10873</td>\n",
       "      <td>NaN</td>\n",
       "      <td>NaN</td>\n",
       "      <td>The Latest: More Homes Razed by Northern Calif...</td>\n",
       "      <td>1</td>\n",
       "      <td>The Latest More Homes Razed Northern Californ...</td>\n",
       "      <td>[The, Latest, More, Homes, Razed, Northern, Ca...</td>\n",
       "    </tr>\n",
       "  </tbody>\n",
       "</table>\n",
       "<p>7613 rows × 7 columns</p>\n",
       "</div>"
      ],
      "text/plain": [
       "         id keyword location  \\\n",
       "0         1     NaN      NaN   \n",
       "1         4     NaN      NaN   \n",
       "2         5     NaN      NaN   \n",
       "3         6     NaN      NaN   \n",
       "4         7     NaN      NaN   \n",
       "...     ...     ...      ...   \n",
       "7608  10869     NaN      NaN   \n",
       "7609  10870     NaN      NaN   \n",
       "7610  10871     NaN      NaN   \n",
       "7611  10872     NaN      NaN   \n",
       "7612  10873     NaN      NaN   \n",
       "\n",
       "                                                   text  target  \\\n",
       "0     Our Deeds are the Reason of this #earthquake M...       1   \n",
       "1                Forest fire near La Ronge Sask. Canada       1   \n",
       "2     All residents asked to 'shelter in place' are ...       1   \n",
       "3     13,000 people receive #wildfires evacuation or...       1   \n",
       "4     Just got sent this photo from Ruby #Alaska as ...       1   \n",
       "...                                                 ...     ...   \n",
       "7608  Two giant cranes holding a bridge collapse int...       1   \n",
       "7609  @aria_ahrary @TheTawniest The out of control w...       1   \n",
       "7610  M1.94 [01:04 UTC]?5km S of Volcano Hawaii. htt...       1   \n",
       "7611  Police investigating after an e-bike collided ...       1   \n",
       "7612  The Latest: More Homes Razed by Northern Calif...       1   \n",
       "\n",
       "                                          text_filtered  \\\n",
       "0       Our Deeds Reason earthquake May ALLAH Forgive u   \n",
       "1                 Forest fire near La Ronge Sask Canada   \n",
       "2      All resident asked shelter place notified off...   \n",
       "3      13000 people receive wildfire evacuation orde...   \n",
       "4      Just got sent photo Ruby Alaska smoke wildfir...   \n",
       "...                                                 ...   \n",
       "7608   Two giant crane holding bridge collapse nearb...   \n",
       "7609   ariaahrary TheTawniest The control wild fire ...   \n",
       "7610   M194 0104 UTC5km S Volcano Hawaii httptcozDto...   \n",
       "7611   Police investigating ebike collided car Littl...   \n",
       "7612   The Latest More Homes Razed Northern Californ...   \n",
       "\n",
       "                                                 tokens  \n",
       "0     [Our, Deeds, Reason, earthquake, May, ALLAH, F...  \n",
       "1         [Forest, fire, near, La, Ronge, Sask, Canada]  \n",
       "2     [All, resident, asked, shelter, place, notifie...  \n",
       "3     [13000, people, receive, wildfire, evacuation,...  \n",
       "4     [Just, got, sent, photo, Ruby, Alaska, smoke, ...  \n",
       "...                                                 ...  \n",
       "7608  [Two, giant, crane, holding, bridge, collapse,...  \n",
       "7609  [ariaahrary, TheTawniest, The, control, wild, ...  \n",
       "7610  [M194, 0104, UTC5km, S, Volcano, Hawaii, httpt...  \n",
       "7611  [Police, investigating, ebike, collided, car, ...  \n",
       "7612  [The, Latest, More, Homes, Razed, Northern, Ca...  \n",
       "\n",
       "[7613 rows x 7 columns]"
      ]
     },
     "execution_count": 10,
     "metadata": {},
     "output_type": "execute_result"
    }
   ],
   "source": [
    "data"
   ]
  },
  {
   "cell_type": "code",
   "execution_count": 11,
   "id": "d0709c44-7cc4-4cd8-9225-c953d198174a",
   "metadata": {},
   "outputs": [
    {
     "data": {
      "text/plain": [
       "25773"
      ]
     },
     "execution_count": 11,
     "metadata": {},
     "output_type": "execute_result"
    }
   ],
   "source": [
    "vocabulary = np.concatenate(data[\"tokens\"].tolist())\n",
    "vocabulary = nltk.Text(vocabulary)\n",
    "frequency = nltk.FreqDist(vocabulary)\n",
    "len(frequency)"
   ]
  },
  {
   "cell_type": "code",
   "execution_count": 12,
   "id": "c28d0b1d-789e-4066-a72c-c2eb1cb27804",
   "metadata": {},
   "outputs": [],
   "source": [
    "word_frequency = []\n",
    "word_length = []\n",
    "for word in frequency.keys():\n",
    "    word_frequency.append(frequency[word])\n",
    "    word_length.append(len(word))"
   ]
  },
  {
   "cell_type": "code",
   "execution_count": 13,
   "id": "4be91512-f016-4b18-afae-09f1ea7d1098",
   "metadata": {},
   "outputs": [
    {
     "data": {
      "image/png": "[encoded data removed]",
      "text/plain": [
       "<Figure size 640x480 with 1 Axes>"
      ]
     },
     "metadata": {},
     "output_type": "display_data"
    }
   ],
   "source": [
    "plt.scatter(word_length, word_frequency)\n",
    "plt.xlabel('Word Length')\n",
    "plt.ylabel('Word Frequency')\n",
    "plt.title('Word Length to Frequency')\n",
    "plt.show()"
   ]
  },
  {
   "cell_type": "code",
   "execution_count": 14,
   "id": "1c5f9a33-304f-464a-a370-7ff3d7a19605",
   "metadata": {},
   "outputs": [
    {
     "data": {
      "text/html": [
       "<div>\n",
       "<style scoped>\n",
       "    .dataframe tbody tr th:only-of-type {\n",
       "        vertical-align: middle;\n",
       "    }\n",
       "\n",
       "    .dataframe tbody tr th {\n",
       "        vertical-align: top;\n",
       "    }\n",
       "\n",
       "    .dataframe thead th {\n",
       "        text-align: right;\n",
       "    }\n",
       "</style>\n",
       "<table border=\"1\" class=\"dataframe\">\n",
       "  <thead>\n",
       "    <tr style=\"text-align: right;\">\n",
       "      <th></th>\n",
       "      <th>id</th>\n",
       "      <th>keyword</th>\n",
       "      <th>location</th>\n",
       "      <th>text</th>\n",
       "      <th>target</th>\n",
       "      <th>text_filtered</th>\n",
       "      <th>tokens</th>\n",
       "      <th>text_reduced</th>\n",
       "    </tr>\n",
       "  </thead>\n",
       "  <tbody>\n",
       "    <tr>\n",
       "      <th>0</th>\n",
       "      <td>1</td>\n",
       "      <td>NaN</td>\n",
       "      <td>NaN</td>\n",
       "      <td>Our Deeds are the Reason of this #earthquake M...</td>\n",
       "      <td>1</td>\n",
       "      <td>Our Deeds Reason earthquake May ALLAH Forgive u</td>\n",
       "      <td>[Our, Deeds, Reason, earthquake, May, ALLAH, F...</td>\n",
       "      <td>Reason earthquake</td>\n",
       "    </tr>\n",
       "    <tr>\n",
       "      <th>1</th>\n",
       "      <td>4</td>\n",
       "      <td>NaN</td>\n",
       "      <td>NaN</td>\n",
       "      <td>Forest fire near La Ronge Sask. Canada</td>\n",
       "      <td>1</td>\n",
       "      <td>Forest fire near La Ronge Sask Canada</td>\n",
       "      <td>[Forest, fire, near, La, Ronge, Sask, Canada]</td>\n",
       "      <td>Forest fire near Canada</td>\n",
       "    </tr>\n",
       "    <tr>\n",
       "      <th>2</th>\n",
       "      <td>5</td>\n",
       "      <td>NaN</td>\n",
       "      <td>NaN</td>\n",
       "      <td>All residents asked to 'shelter in place' are ...</td>\n",
       "      <td>1</td>\n",
       "      <td>All resident asked shelter place notified off...</td>\n",
       "      <td>[All, resident, asked, shelter, place, notifie...</td>\n",
       "      <td>resident asked shelter place officer evacuati...</td>\n",
       "    </tr>\n",
       "    <tr>\n",
       "      <th>3</th>\n",
       "      <td>6</td>\n",
       "      <td>NaN</td>\n",
       "      <td>NaN</td>\n",
       "      <td>13,000 people receive #wildfires evacuation or...</td>\n",
       "      <td>1</td>\n",
       "      <td>13000 people receive wildfire evacuation orde...</td>\n",
       "      <td>[13000, people, receive, wildfire, evacuation,...</td>\n",
       "      <td>13000 people wildfire evacuation order Califo...</td>\n",
       "    </tr>\n",
       "    <tr>\n",
       "      <th>4</th>\n",
       "      <td>7</td>\n",
       "      <td>NaN</td>\n",
       "      <td>NaN</td>\n",
       "      <td>Just got sent this photo from Ruby #Alaska as ...</td>\n",
       "      <td>1</td>\n",
       "      <td>Just got sent photo Ruby Alaska smoke wildfir...</td>\n",
       "      <td>[Just, got, sent, photo, Ruby, Alaska, smoke, ...</td>\n",
       "      <td>Just sent photo Alaska smoke wildfire school</td>\n",
       "    </tr>\n",
       "    <tr>\n",
       "      <th>...</th>\n",
       "      <td>...</td>\n",
       "      <td>...</td>\n",
       "      <td>...</td>\n",
       "      <td>...</td>\n",
       "      <td>...</td>\n",
       "      <td>...</td>\n",
       "      <td>...</td>\n",
       "      <td>...</td>\n",
       "    </tr>\n",
       "    <tr>\n",
       "      <th>7608</th>\n",
       "      <td>10869</td>\n",
       "      <td>NaN</td>\n",
       "      <td>NaN</td>\n",
       "      <td>Two giant cranes holding a bridge collapse int...</td>\n",
       "      <td>1</td>\n",
       "      <td>Two giant crane holding bridge collapse nearb...</td>\n",
       "      <td>[Two, giant, crane, holding, bridge, collapse,...</td>\n",
       "      <td>giant crane holding bridge collapse nearby home</td>\n",
       "    </tr>\n",
       "    <tr>\n",
       "      <th>7609</th>\n",
       "      <td>10870</td>\n",
       "      <td>NaN</td>\n",
       "      <td>NaN</td>\n",
       "      <td>@aria_ahrary @TheTawniest The out of control w...</td>\n",
       "      <td>1</td>\n",
       "      <td>ariaahrary TheTawniest The control wild fire ...</td>\n",
       "      <td>[ariaahrary, TheTawniest, The, control, wild, ...</td>\n",
       "      <td>control wild fire California even Northern pa...</td>\n",
       "    </tr>\n",
       "    <tr>\n",
       "      <th>7610</th>\n",
       "      <td>10871</td>\n",
       "      <td>NaN</td>\n",
       "      <td>NaN</td>\n",
       "      <td>M1.94 [01:04 UTC]?5km S of Volcano Hawaii. htt...</td>\n",
       "      <td>1</td>\n",
       "      <td>M194 0104 UTC5km S Volcano Hawaii httptcozDto...</td>\n",
       "      <td>[M194, 0104, UTC5km, S, Volcano, Hawaii, httpt...</td>\n",
       "      <td>M194 0104 Volcano Hawaii</td>\n",
       "    </tr>\n",
       "    <tr>\n",
       "      <th>7611</th>\n",
       "      <td>10872</td>\n",
       "      <td>NaN</td>\n",
       "      <td>NaN</td>\n",
       "      <td>Police investigating after an e-bike collided ...</td>\n",
       "      <td>1</td>\n",
       "      <td>Police investigating ebike collided car Littl...</td>\n",
       "      <td>[Police, investigating, ebike, collided, car, ...</td>\n",
       "      <td>Police investigating collided Little rider su...</td>\n",
       "    </tr>\n",
       "    <tr>\n",
       "      <th>7612</th>\n",
       "      <td>10873</td>\n",
       "      <td>NaN</td>\n",
       "      <td>NaN</td>\n",
       "      <td>The Latest: More Homes Razed by Northern Calif...</td>\n",
       "      <td>1</td>\n",
       "      <td>The Latest More Homes Razed Northern Californ...</td>\n",
       "      <td>[The, Latest, More, Homes, Razed, Northern, Ca...</td>\n",
       "      <td>Latest More Homes Razed Northern California W...</td>\n",
       "    </tr>\n",
       "  </tbody>\n",
       "</table>\n",
       "<p>7613 rows × 8 columns</p>\n",
       "</div>"
      ],
      "text/plain": [
       "         id keyword location  \\\n",
       "0         1     NaN      NaN   \n",
       "1         4     NaN      NaN   \n",
       "2         5     NaN      NaN   \n",
       "3         6     NaN      NaN   \n",
       "4         7     NaN      NaN   \n",
       "...     ...     ...      ...   \n",
       "7608  10869     NaN      NaN   \n",
       "7609  10870     NaN      NaN   \n",
       "7610  10871     NaN      NaN   \n",
       "7611  10872     NaN      NaN   \n",
       "7612  10873     NaN      NaN   \n",
       "\n",
       "                                                   text  target  \\\n",
       "0     Our Deeds are the Reason of this #earthquake M...       1   \n",
       "1                Forest fire near La Ronge Sask. Canada       1   \n",
       "2     All residents asked to 'shelter in place' are ...       1   \n",
       "3     13,000 people receive #wildfires evacuation or...       1   \n",
       "4     Just got sent this photo from Ruby #Alaska as ...       1   \n",
       "...                                                 ...     ...   \n",
       "7608  Two giant cranes holding a bridge collapse int...       1   \n",
       "7609  @aria_ahrary @TheTawniest The out of control w...       1   \n",
       "7610  M1.94 [01:04 UTC]?5km S of Volcano Hawaii. htt...       1   \n",
       "7611  Police investigating after an e-bike collided ...       1   \n",
       "7612  The Latest: More Homes Razed by Northern Calif...       1   \n",
       "\n",
       "                                          text_filtered  \\\n",
       "0       Our Deeds Reason earthquake May ALLAH Forgive u   \n",
       "1                 Forest fire near La Ronge Sask Canada   \n",
       "2      All resident asked shelter place notified off...   \n",
       "3      13000 people receive wildfire evacuation orde...   \n",
       "4      Just got sent photo Ruby Alaska smoke wildfir...   \n",
       "...                                                 ...   \n",
       "7608   Two giant crane holding bridge collapse nearb...   \n",
       "7609   ariaahrary TheTawniest The control wild fire ...   \n",
       "7610   M194 0104 UTC5km S Volcano Hawaii httptcozDto...   \n",
       "7611   Police investigating ebike collided car Littl...   \n",
       "7612   The Latest More Homes Razed Northern Californ...   \n",
       "\n",
       "                                                 tokens  \\\n",
       "0     [Our, Deeds, Reason, earthquake, May, ALLAH, F...   \n",
       "1         [Forest, fire, near, La, Ronge, Sask, Canada]   \n",
       "2     [All, resident, asked, shelter, place, notifie...   \n",
       "3     [13000, people, receive, wildfire, evacuation,...   \n",
       "4     [Just, got, sent, photo, Ruby, Alaska, smoke, ...   \n",
       "...                                                 ...   \n",
       "7608  [Two, giant, crane, holding, bridge, collapse,...   \n",
       "7609  [ariaahrary, TheTawniest, The, control, wild, ...   \n",
       "7610  [M194, 0104, UTC5km, S, Volcano, Hawaii, httpt...   \n",
       "7611  [Police, investigating, ebike, collided, car, ...   \n",
       "7612  [The, Latest, More, Homes, Razed, Northern, Ca...   \n",
       "\n",
       "                                           text_reduced  \n",
       "0                                     Reason earthquake  \n",
       "1                               Forest fire near Canada  \n",
       "2      resident asked shelter place officer evacuati...  \n",
       "3      13000 people wildfire evacuation order Califo...  \n",
       "4          Just sent photo Alaska smoke wildfire school  \n",
       "...                                                 ...  \n",
       "7608    giant crane holding bridge collapse nearby home  \n",
       "7609   control wild fire California even Northern pa...  \n",
       "7610                           M194 0104 Volcano Hawaii  \n",
       "7611   Police investigating collided Little rider su...  \n",
       "7612   Latest More Homes Razed Northern California W...  \n",
       "\n",
       "[7613 rows x 8 columns]"
      ]
     },
     "execution_count": 14,
     "metadata": {},
     "output_type": "execute_result"
    }
   ],
   "source": [
    "data[\"text_reduced\"] = data.apply(lambda x: removeShortAndInfrequentWords(x['text_filtered'], frequency), axis=1)\n",
    "data"
   ]
  },
  {
   "cell_type": "code",
   "execution_count": 15,
   "id": "6205881e-e12b-418e-a8fa-9a7444bb582e",
   "metadata": {},
   "outputs": [],
   "source": [
    "data[\"tokens\"] = data.apply(lambda x: tokenize(x['text_reduced']), axis=1)\n",
    "vocabulary = np.concatenate(data[\"tokens\"].tolist())\n",
    "vocabulary = nltk.Text(vocabulary)\n",
    "frequency = nltk.FreqDist(vocabulary)"
   ]
  },
  {
   "cell_type": "code",
   "execution_count": 16,
   "id": "5417e7af-2c57-4b34-8a42-6c4d8954c35c",
   "metadata": {},
   "outputs": [
    {
     "data": {
      "text/plain": [
       "4226"
      ]
     },
     "execution_count": 16,
     "metadata": {},
     "output_type": "execute_result"
    }
   ],
   "source": [
    "len(frequency)"
   ]
  },
  {
   "cell_type": "code",
   "execution_count": 17,
   "id": "79a5210a-961a-49ba-bd5d-e7be196805b4",
   "metadata": {},
   "outputs": [],
   "source": [
    "word_frequency = []\n",
    "word_length = []\n",
    "for word in frequency.keys():\n",
    "    word_frequency.append(frequency[word])\n",
    "    word_length.append(len(word))"
   ]
  },
  {
   "cell_type": "code",
   "execution_count": 18,
   "id": "d4ce9b9b-bff4-4a99-b1e9-a9c3ef6220d6",
   "metadata": {},
   "outputs": [
    {
     "data": {
      "image/png": "[encoded data removed]",
      "text/plain": [
       "<Figure size 640x480 with 1 Axes>"
      ]
     },
     "metadata": {},
     "output_type": "display_data"
    }
   ],
   "source": [
    "plt.scatter(word_length, word_frequency)\n",
    "plt.xlabel('Word Length')\n",
    "plt.ylabel('Word Frequency')\n",
    "plt.title('Word Length to Frequency')\n",
    "plt.show()"
   ]
  },
  {
   "cell_type": "code",
   "execution_count": 19,
   "id": "10276706-5129-4d94-97a8-807f53e998b4",
   "metadata": {},
   "outputs": [
    {
     "data": {
      "text/plain": [
       "<Axes: xlabel='target'>"
      ]
     },
     "execution_count": 19,
     "metadata": {},
     "output_type": "execute_result"
    },
    {
     "data": {
      "image/png": "[encoded data removed]",
      "text/plain": [
       "<Figure size 640x480 with 1 Axes>"
      ]
     },
     "metadata": {},
     "output_type": "display_data"
    }
   ],
   "source": [
    "data[\"target\"].value_counts().plot(kind=\"bar\")"
   ]
  },
  {
   "cell_type": "markdown",
   "id": "566e9ad4-2b98-4ae5-85c4-4800321e1caf",
   "metadata": {},
   "source": [
    "### Exploratory Data Analysis\n",
    "\n",
    "In order to train on the vectors of words we generated above, we use a Keras tokenizer to convert the sentences into padded sequences that indicate the list of words used in a tweet. This can be thought of as a \"bag of words\" model where we train simply on the list of words that are in the tweet and may lose some context between connected words or similar meanings. However this also makes the model simple, and avoids any assumptions that may exist in pretrained options, so it works effectively for an initial model, especially when looking at something like disaster tweets where many specific words indicate disasters, such as \"fire, flood, etc.\"\n",
    "\n",
    "Alternatives that could be considered include Word2Vec or GloVe, where additional information can be provided to the dictionary by context around a word. For example the words \"fire\" \"forest\" and \"helicopter\" that are all often used together may have a similar vector, so any of them provides similar information to the model. We also could consider using tuples of words that appear in tweets as characters, however the limited computing resources this notebook is being run on could not handle the increased dictionary.\n",
    "\n",
    "Instead, since our resources were limited, we test with two different types of models instead. Both models take an initial embedding layer followed by a dropout, but our first model uses an LSTM layer while the next uses a GRU layer, and our third model uses two LSTM layers. We expect the LSTM to be more effective in this model as long as we control for overfitting, as it has more parameters to modify than the GRU layers, and these models are relatively small, so we anticipate that the LSTM will not lead to the overfitting it can be prone to. Since this is a binary classifier we choose a sigmoid for our output layer."
   ]
  },
  {
   "cell_type": "code",
   "execution_count": 20,
   "id": "2351b04e-d8ef-41bd-aca6-92b4cdb68e41",
   "metadata": {},
   "outputs": [],
   "source": [
    "tokenizer = Tokenizer(num_words=len(frequency), split=' ')\n",
    "tokenizer.fit_on_texts(data['text_reduced'].values)\n",
    "data_sequences = tokenizer.texts_to_sequences(data['text_reduced'].values)\n",
    "data_sequences = pad_sequences(data_sequences)"
   ]
  },
  {
   "cell_type": "code",
   "execution_count": 21,
   "id": "b1547bef-3f2f-4d82-8406-f51714d41747",
   "metadata": {},
   "outputs": [
    {
     "data": {
      "text/plain": [
       "array([[   0,    0,    0, ...,    0,  451,  124],\n",
       "       [   0,    0,    0, ...,    2,  122, 1415],\n",
       "       [   0,    0,    0, ...,  370,  287,  852],\n",
       "       ...,\n",
       "       [   0,    0,    0, ..., 3323,  425, 1172],\n",
       "       [   0,    0,    0, ...,  966, 1882,   60],\n",
       "       [   0,    0,    0, ...,   24,   53,    4]], dtype=int32)"
      ]
     },
     "execution_count": 21,
     "metadata": {},
     "output_type": "execute_result"
    }
   ],
   "source": [
    "data_sequences"
   ]
  },
  {
   "cell_type": "code",
   "execution_count": 22,
   "id": "d63641ad-633a-41d5-aa58-6fbb8e222c00",
   "metadata": {},
   "outputs": [],
   "source": [
    "X_train, X_validate, y_train, y_validate = train_test_split(data_sequences, data[\"target\"], stratify=data[\"target\"], test_size=0.2)"
   ]
  },
  {
   "cell_type": "code",
   "execution_count": 23,
   "id": "5f69a9a1-41f4-45dd-88d4-e33e3b229496",
   "metadata": {},
   "outputs": [],
   "source": [
    "def lstm_model_builder(params):\n",
    "    model = keras.Sequential()\n",
    "    model.add(keras.layers.Embedding(len(frequency), params.Int(\"embedding_size\", min_value=32, max_value=256, step=32), input_length = X_train.shape[1]))\n",
    "    model.add(keras.layers.SpatialDropout1D(params.Float(\"do\", min_value=0.1, max_value=0.5, step=0.1)))\n",
    "    model.add(keras.layers.LSTM(params.Int(\"lstm_size\", min_value=32, max_value=256, step=32), \n",
    "                                dropout=params.Float(\"do_1\", min_value=0.1, max_value=0.5, step=0.1), \n",
    "                                recurrent_dropout=params.Float(\"rdo\", min_value=0.1, max_value=0.5, step=0.1)))\n",
    "    model.add(keras.layers.Dense(params.Int(\"dense_size_1\", min_value=16, max_value=128, step=16),activation='relu'))\n",
    "    model.add(keras.layers.Dropout(params.Float(\"do_2\", min_value=0.1, max_value=0.5, step=0.1)))\n",
    "    model.add(keras.layers.Dense(params.Int(\"dense_size_2\", min_value=16, max_value=128, step=16),activation='relu'))\n",
    "    model.add(keras.layers.Dropout(params.Float(\"do_3\", min_value=0.1, max_value=0.5, step=0.1)))\n",
    "    model.add(keras.layers.Dense(params.Int(\"dense_size_3\", min_value=16, max_value=128, step=16),activation='relu'))\n",
    "    model.add(keras.layers.Dropout(params.Float(\"do_4\", min_value=0.1, max_value=0.5, step=0.1)))\n",
    "    model.add(keras.layers.Dense(1,activation='sigmoid'))\n",
    "    \n",
    "    model.compile(optimizer='adam', loss='binary_crossentropy', metrics=[\"accuracy\"])\n",
    "\n",
    "    return model"
   ]
  },
  {
   "cell_type": "code",
   "execution_count": 24,
   "id": "7d16a571-03b5-4237-b90f-6f53c623cba9",
   "metadata": {},
   "outputs": [
    {
     "name": "stderr",
     "output_type": "stream",
     "text": [
      "WARNING: All log messages before absl::InitializeLog() is called are written to STDERR\n",
      "I0000 00:00:1728728505.325771  389783 cuda_executor.cc:1015] successful NUMA node read from SysFS had negative value (-1), but there must be at least one NUMA node, so returning NUMA node zero. See more at https://github.com/torvalds/linux/blob/v6.0/Documentation/ABI/testing/sysfs-bus-pci#L344-L355\n",
      "2024-10-12 06:21:45.326550: W tensorflow/core/common_runtime/gpu/gpu_device.cc:2343] Cannot dlopen some GPU libraries. Please make sure the missing libraries mentioned above are installed properly if you would like to use GPU. Follow the guide at https://www.tensorflow.org/install/gpu for how to download and setup the required libraries for your platform.\n",
      "Skipping registering GPU devices...\n",
      "/home/midelan/.local/lib/python3.10/site-packages/keras/src/layers/core/embedding.py:90: UserWarning: Argument `input_length` is deprecated. Just remove it.\n",
      "  warnings.warn(\n"
     ]
    }
   ],
   "source": [
    "lstm_tuner = keras_tuner.RandomSearch(\n",
    "    hypermodel=lstm_model_builder,\n",
    "    objective=\"val_accuracy\",\n",
    "    max_trials=3,\n",
    "    executions_per_trial=2,\n",
    "    overwrite=True,\n",
    "    directory=\"models\",\n",
    "    project_name=\"disaster_tweets\",\n",
    ")  "
   ]
  },
  {
   "cell_type": "code",
   "execution_count": 25,
   "id": "29d3a48c-adf4-4d18-8df1-f449836e0375",
   "metadata": {},
   "outputs": [
    {
     "name": "stdout",
     "output_type": "stream",
     "text": [
      "Trial 3 Complete [00h 00m 05s]\n",
      "val_accuracy: 0.7885752022266388\n",
      "\n",
      "Best val_accuracy So Far: 0.800065666437149\n",
      "Total elapsed time: 00h 00m 23s\n"
     ]
    }
   ],
   "source": [
    "lstm_tuner.search(X_train, y_train, epochs=2, validation_data=(X_validate,y_validate))"
   ]
  },
  {
   "cell_type": "code",
   "execution_count": 26,
   "id": "b663bc58-0cab-497f-a1a5-217bd67bb70d",
   "metadata": {},
   "outputs": [
    {
     "name": "stderr",
     "output_type": "stream",
     "text": [
      "/home/midelan/.local/lib/python3.10/site-packages/keras/src/saving/saving_lib.py:719: UserWarning: Skipping variable loading for optimizer 'adam', because it has 2 variables whereas the saved optimizer has 26 variables. \n",
      "  saveable.load_own_variables(weights_store.get(inner_path))\n"
     ]
    },
    {
     "data": {
      "text/html": [
       "<pre style=\"white-space:pre;overflow-x:auto;line-height:normal;font-family:Menlo,'DejaVu Sans Mono',consolas,'Courier New',monospace\"><span style=\"font-weight: bold\">Model: \"sequential\"</span>\n",
       "</pre>\n"
      ],
      "text/plain": [
       "\u001b[1mModel: \"sequential\"\u001b[0m\n"
      ]
     },
     "metadata": {},
     "output_type": "display_data"
    },
    {
     "data": {
      "text/html": [
       "<pre style=\"white-space:pre;overflow-x:auto;line-height:normal;font-family:Menlo,'DejaVu Sans Mono',consolas,'Courier New',monospace\">┏━━━━━━━━━━━━━━━━━━━━━━━━━━━━━━━━━┳━━━━━━━━━━━━━━━━━━━━━━━━┳━━━━━━━━━━━━━━━┓\n",
       "┃<span style=\"font-weight: bold\"> Layer (type)                    </span>┃<span style=\"font-weight: bold\"> Output Shape           </span>┃<span style=\"font-weight: bold\">       Param # </span>┃\n",
       "┡━━━━━━━━━━━━━━━━━━━━━━━━━━━━━━━━━╇━━━━━━━━━━━━━━━━━━━━━━━━╇━━━━━━━━━━━━━━━┩\n",
       "│ embedding (<span style=\"color: #0087ff; text-decoration-color: #0087ff\">Embedding</span>)           │ (<span style=\"color: #00d7ff; text-decoration-color: #00d7ff\">None</span>, <span style=\"color: #00af00; text-decoration-color: #00af00\">16</span>, <span style=\"color: #00af00; text-decoration-color: #00af00\">256</span>)        │     <span style=\"color: #00af00; text-decoration-color: #00af00\">1,081,856</span> │\n",
       "├─────────────────────────────────┼────────────────────────┼───────────────┤\n",
       "│ spatial_dropout1d               │ (<span style=\"color: #00d7ff; text-decoration-color: #00d7ff\">None</span>, <span style=\"color: #00af00; text-decoration-color: #00af00\">16</span>, <span style=\"color: #00af00; text-decoration-color: #00af00\">256</span>)        │             <span style=\"color: #00af00; text-decoration-color: #00af00\">0</span> │\n",
       "│ (<span style=\"color: #0087ff; text-decoration-color: #0087ff\">SpatialDropout1D</span>)              │                        │               │\n",
       "├─────────────────────────────────┼────────────────────────┼───────────────┤\n",
       "│ lstm (<span style=\"color: #0087ff; text-decoration-color: #0087ff\">LSTM</span>)                     │ (<span style=\"color: #00d7ff; text-decoration-color: #00d7ff\">None</span>, <span style=\"color: #00af00; text-decoration-color: #00af00\">224</span>)            │       <span style=\"color: #00af00; text-decoration-color: #00af00\">430,976</span> │\n",
       "├─────────────────────────────────┼────────────────────────┼───────────────┤\n",
       "│ dense (<span style=\"color: #0087ff; text-decoration-color: #0087ff\">Dense</span>)                   │ (<span style=\"color: #00d7ff; text-decoration-color: #00d7ff\">None</span>, <span style=\"color: #00af00; text-decoration-color: #00af00\">32</span>)             │         <span style=\"color: #00af00; text-decoration-color: #00af00\">7,200</span> │\n",
       "├─────────────────────────────────┼────────────────────────┼───────────────┤\n",
       "│ dropout (<span style=\"color: #0087ff; text-decoration-color: #0087ff\">Dropout</span>)               │ (<span style=\"color: #00d7ff; text-decoration-color: #00d7ff\">None</span>, <span style=\"color: #00af00; text-decoration-color: #00af00\">32</span>)             │             <span style=\"color: #00af00; text-decoration-color: #00af00\">0</span> │\n",
       "├─────────────────────────────────┼────────────────────────┼───────────────┤\n",
       "│ dense_1 (<span style=\"color: #0087ff; text-decoration-color: #0087ff\">Dense</span>)                 │ (<span style=\"color: #00d7ff; text-decoration-color: #00d7ff\">None</span>, <span style=\"color: #00af00; text-decoration-color: #00af00\">16</span>)             │           <span style=\"color: #00af00; text-decoration-color: #00af00\">528</span> │\n",
       "├─────────────────────────────────┼────────────────────────┼───────────────┤\n",
       "│ dropout_1 (<span style=\"color: #0087ff; text-decoration-color: #0087ff\">Dropout</span>)             │ (<span style=\"color: #00d7ff; text-decoration-color: #00d7ff\">None</span>, <span style=\"color: #00af00; text-decoration-color: #00af00\">16</span>)             │             <span style=\"color: #00af00; text-decoration-color: #00af00\">0</span> │\n",
       "├─────────────────────────────────┼────────────────────────┼───────────────┤\n",
       "│ dense_2 (<span style=\"color: #0087ff; text-decoration-color: #0087ff\">Dense</span>)                 │ (<span style=\"color: #00d7ff; text-decoration-color: #00d7ff\">None</span>, <span style=\"color: #00af00; text-decoration-color: #00af00\">16</span>)             │           <span style=\"color: #00af00; text-decoration-color: #00af00\">272</span> │\n",
       "├─────────────────────────────────┼────────────────────────┼───────────────┤\n",
       "│ dropout_2 (<span style=\"color: #0087ff; text-decoration-color: #0087ff\">Dropout</span>)             │ (<span style=\"color: #00d7ff; text-decoration-color: #00d7ff\">None</span>, <span style=\"color: #00af00; text-decoration-color: #00af00\">16</span>)             │             <span style=\"color: #00af00; text-decoration-color: #00af00\">0</span> │\n",
       "├─────────────────────────────────┼────────────────────────┼───────────────┤\n",
       "│ dense_3 (<span style=\"color: #0087ff; text-decoration-color: #0087ff\">Dense</span>)                 │ (<span style=\"color: #00d7ff; text-decoration-color: #00d7ff\">None</span>, <span style=\"color: #00af00; text-decoration-color: #00af00\">1</span>)              │            <span style=\"color: #00af00; text-decoration-color: #00af00\">17</span> │\n",
       "└─────────────────────────────────┴────────────────────────┴───────────────┘\n",
       "</pre>\n"
      ],
      "text/plain": [
       "┏━━━━━━━━━━━━━━━━━━━━━━━━━━━━━━━━━┳━━━━━━━━━━━━━━━━━━━━━━━━┳━━━━━━━━━━━━━━━┓\n",
       "┃\u001b[1m \u001b[0m\u001b[1mLayer (type)                   \u001b[0m\u001b[1m \u001b[0m┃\u001b[1m \u001b[0m\u001b[1mOutput Shape          \u001b[0m\u001b[1m \u001b[0m┃\u001b[1m \u001b[0m\u001b[1m      Param #\u001b[0m\u001b[1m \u001b[0m┃\n",
       "┡━━━━━━━━━━━━━━━━━━━━━━━━━━━━━━━━━╇━━━━━━━━━━━━━━━━━━━━━━━━╇━━━━━━━━━━━━━━━┩\n",
       "│ embedding (\u001b[38;5;33mEmbedding\u001b[0m)           │ (\u001b[38;5;45mNone\u001b[0m, \u001b[38;5;34m16\u001b[0m, \u001b[38;5;34m256\u001b[0m)        │     \u001b[38;5;34m1,081,856\u001b[0m │\n",
       "├─────────────────────────────────┼────────────────────────┼───────────────┤\n",
       "│ spatial_dropout1d               │ (\u001b[38;5;45mNone\u001b[0m, \u001b[38;5;34m16\u001b[0m, \u001b[38;5;34m256\u001b[0m)        │             \u001b[38;5;34m0\u001b[0m │\n",
       "│ (\u001b[38;5;33mSpatialDropout1D\u001b[0m)              │                        │               │\n",
       "├─────────────────────────────────┼────────────────────────┼───────────────┤\n",
       "│ lstm (\u001b[38;5;33mLSTM\u001b[0m)                     │ (\u001b[38;5;45mNone\u001b[0m, \u001b[38;5;34m224\u001b[0m)            │       \u001b[38;5;34m430,976\u001b[0m │\n",
       "├─────────────────────────────────┼────────────────────────┼───────────────┤\n",
       "│ dense (\u001b[38;5;33mDense\u001b[0m)                   │ (\u001b[38;5;45mNone\u001b[0m, \u001b[38;5;34m32\u001b[0m)             │         \u001b[38;5;34m7,200\u001b[0m │\n",
       "├─────────────────────────────────┼────────────────────────┼───────────────┤\n",
       "│ dropout (\u001b[38;5;33mDropout\u001b[0m)               │ (\u001b[38;5;45mNone\u001b[0m, \u001b[38;5;34m32\u001b[0m)             │             \u001b[38;5;34m0\u001b[0m │\n",
       "├─────────────────────────────────┼────────────────────────┼───────────────┤\n",
       "│ dense_1 (\u001b[38;5;33mDense\u001b[0m)                 │ (\u001b[38;5;45mNone\u001b[0m, \u001b[38;5;34m16\u001b[0m)             │           \u001b[38;5;34m528\u001b[0m │\n",
       "├─────────────────────────────────┼────────────────────────┼───────────────┤\n",
       "│ dropout_1 (\u001b[38;5;33mDropout\u001b[0m)             │ (\u001b[38;5;45mNone\u001b[0m, \u001b[38;5;34m16\u001b[0m)             │             \u001b[38;5;34m0\u001b[0m │\n",
       "├─────────────────────────────────┼────────────────────────┼───────────────┤\n",
       "│ dense_2 (\u001b[38;5;33mDense\u001b[0m)                 │ (\u001b[38;5;45mNone\u001b[0m, \u001b[38;5;34m16\u001b[0m)             │           \u001b[38;5;34m272\u001b[0m │\n",
       "├─────────────────────────────────┼────────────────────────┼───────────────┤\n",
       "│ dropout_2 (\u001b[38;5;33mDropout\u001b[0m)             │ (\u001b[38;5;45mNone\u001b[0m, \u001b[38;5;34m16\u001b[0m)             │             \u001b[38;5;34m0\u001b[0m │\n",
       "├─────────────────────────────────┼────────────────────────┼───────────────┤\n",
       "│ dense_3 (\u001b[38;5;33mDense\u001b[0m)                 │ (\u001b[38;5;45mNone\u001b[0m, \u001b[38;5;34m1\u001b[0m)              │            \u001b[38;5;34m17\u001b[0m │\n",
       "└─────────────────────────────────┴────────────────────────┴───────────────┘\n"
      ]
     },
     "metadata": {},
     "output_type": "display_data"
    },
    {
     "data": {
      "text/html": [
       "<pre style=\"white-space:pre;overflow-x:auto;line-height:normal;font-family:Menlo,'DejaVu Sans Mono',consolas,'Courier New',monospace\"><span style=\"font-weight: bold\"> Total params: </span><span style=\"color: #00af00; text-decoration-color: #00af00\">1,520,849</span> (5.80 MB)\n",
       "</pre>\n"
      ],
      "text/plain": [
       "\u001b[1m Total params: \u001b[0m\u001b[38;5;34m1,520,849\u001b[0m (5.80 MB)\n"
      ]
     },
     "metadata": {},
     "output_type": "display_data"
    },
    {
     "data": {
      "text/html": [
       "<pre style=\"white-space:pre;overflow-x:auto;line-height:normal;font-family:Menlo,'DejaVu Sans Mono',consolas,'Courier New',monospace\"><span style=\"font-weight: bold\"> Trainable params: </span><span style=\"color: #00af00; text-decoration-color: #00af00\">1,520,849</span> (5.80 MB)\n",
       "</pre>\n"
      ],
      "text/plain": [
       "\u001b[1m Trainable params: \u001b[0m\u001b[38;5;34m1,520,849\u001b[0m (5.80 MB)\n"
      ]
     },
     "metadata": {},
     "output_type": "display_data"
    },
    {
     "data": {
      "text/html": [
       "<pre style=\"white-space:pre;overflow-x:auto;line-height:normal;font-family:Menlo,'DejaVu Sans Mono',consolas,'Courier New',monospace\"><span style=\"font-weight: bold\"> Non-trainable params: </span><span style=\"color: #00af00; text-decoration-color: #00af00\">0</span> (0.00 B)\n",
       "</pre>\n"
      ],
      "text/plain": [
       "\u001b[1m Non-trainable params: \u001b[0m\u001b[38;5;34m0\u001b[0m (0.00 B)\n"
      ]
     },
     "metadata": {},
     "output_type": "display_data"
    }
   ],
   "source": [
    "models = lstm_tuner.get_best_models(num_models=1)\n",
    "best_model = models[0]\n",
    "best_model.summary()"
   ]
  },
  {
   "cell_type": "code",
   "execution_count": 27,
   "id": "d4d2b331-194f-4410-924d-e8efa9f3b0ae",
   "metadata": {},
   "outputs": [
    {
     "name": "stdout",
     "output_type": "stream",
     "text": [
      "Epoch 1/10\n",
      "\u001b[1m7/7\u001b[0m \u001b[32m━━━━━━━━━━━━━━━━━━━━\u001b[0m\u001b[37m\u001b[0m \u001b[1m2s\u001b[0m 83ms/step - accuracy: 0.5381 - loss: 0.6910 - val_accuracy: 0.5706 - val_loss: 0.6706\n",
      "Epoch 2/10\n",
      "\u001b[1m7/7\u001b[0m \u001b[32m━━━━━━━━━━━━━━━━━━━━\u001b[0m\u001b[37m\u001b[0m \u001b[1m0s\u001b[0m 60ms/step - accuracy: 0.5490 - loss: 0.6800 - val_accuracy: 0.5706 - val_loss: 0.6715\n",
      "Epoch 3/10\n",
      "\u001b[1m7/7\u001b[0m \u001b[32m━━━━━━━━━━━━━━━━━━━━\u001b[0m\u001b[37m\u001b[0m \u001b[1m0s\u001b[0m 61ms/step - accuracy: 0.5644 - loss: 0.6748 - val_accuracy: 0.5706 - val_loss: 0.6532\n",
      "Epoch 4/10\n",
      "\u001b[1m7/7\u001b[0m \u001b[32m━━━━━━━━━━━━━━━━━━━━\u001b[0m\u001b[37m\u001b[0m \u001b[1m0s\u001b[0m 60ms/step - accuracy: 0.5659 - loss: 0.6606 - val_accuracy: 0.5706 - val_loss: 0.6328\n",
      "Epoch 5/10\n",
      "\u001b[1m7/7\u001b[0m \u001b[32m━━━━━━━━━━━━━━━━━━━━\u001b[0m\u001b[37m\u001b[0m \u001b[1m0s\u001b[0m 61ms/step - accuracy: 0.5857 - loss: 0.6450 - val_accuracy: 0.5706 - val_loss: 0.6227\n",
      "Epoch 6/10\n",
      "\u001b[1m7/7\u001b[0m \u001b[32m━━━━━━━━━━━━━━━━━━━━\u001b[0m\u001b[37m\u001b[0m \u001b[1m0s\u001b[0m 61ms/step - accuracy: 0.6316 - loss: 0.6193 - val_accuracy: 0.7722 - val_loss: 0.5781\n",
      "Epoch 7/10\n",
      "\u001b[1m7/7\u001b[0m \u001b[32m━━━━━━━━━━━━━━━━━━━━\u001b[0m\u001b[37m\u001b[0m \u001b[1m0s\u001b[0m 61ms/step - accuracy: 0.7034 - loss: 0.5799 - val_accuracy: 0.7912 - val_loss: 0.5400\n",
      "Epoch 8/10\n",
      "\u001b[1m7/7\u001b[0m \u001b[32m━━━━━━━━━━━━━━━━━━━━\u001b[0m\u001b[37m\u001b[0m \u001b[1m0s\u001b[0m 62ms/step - accuracy: 0.7555 - loss: 0.5360 - val_accuracy: 0.7978 - val_loss: 0.5144\n",
      "Epoch 9/10\n",
      "\u001b[1m7/7\u001b[0m \u001b[32m━━━━━━━━━━━━━━━━━━━━\u001b[0m\u001b[37m\u001b[0m \u001b[1m0s\u001b[0m 60ms/step - accuracy: 0.8122 - loss: 0.4699 - val_accuracy: 0.7840 - val_loss: 0.4709\n",
      "Epoch 10/10\n",
      "\u001b[1m7/7\u001b[0m \u001b[32m━━━━━━━━━━━━━━━━━━━━\u001b[0m\u001b[37m\u001b[0m \u001b[1m0s\u001b[0m 61ms/step - accuracy: 0.8193 - loss: 0.4293 - val_accuracy: 0.7978 - val_loss: 0.4500\n"
     ]
    }
   ],
   "source": [
    "lstm_best_hps = lstm_tuner.get_best_hyperparameters(1)\n",
    "lstm_final_model = lstm_model_builder(lstm_best_hps[0])\n",
    "callback = keras.callbacks.EarlyStopping(monitor='loss', patience=5)\n",
    "\n",
    "final_lstm_model_history = lstm_final_model.fit(X_train, \n",
    "                              y_train, \n",
    "                              epochs = 10, \n",
    "                              batch_size=1000, \n",
    "                              verbose = 1, \n",
    "                              callbacks=[callback], \n",
    "                              validation_data=(X_validate,y_validate))"
   ]
  },
  {
   "cell_type": "code",
   "execution_count": 28,
   "id": "e1afe25f-3aa9-46b1-a711-72dd8fe6ea3d",
   "metadata": {},
   "outputs": [],
   "source": [
    "def gru_model_builder(params):\n",
    "    model = keras.Sequential()\n",
    "    model.add(keras.layers.Embedding(len(frequency), params.Int(\"embedding_size\", min_value=32, max_value=256, step=32), input_length = X_train.shape[1]))\n",
    "    model.add(keras.layers.SpatialDropout1D(params.Float(\"do\", min_value=0.1, max_value=0.5, step=0.1)))\n",
    "    model.add(keras.layers.Bidirectional(keras.layers.GRU(params.Int(\"gru_size\", min_value=16, max_value=128, step=16))))\n",
    "    model.add(keras.layers.Dense(params.Int(\"dense_size_1\", min_value=16, max_value=128, step=16),activation='relu'))\n",
    "    model.add(keras.layers.Dropout(params.Float(\"do_2\", min_value=0.1, max_value=0.5, step=0.1)))\n",
    "    model.add(keras.layers.Dense(params.Int(\"dense_size_2\", min_value=16, max_value=128, step=16),activation='relu'))\n",
    "    model.add(keras.layers.Dropout(params.Float(\"do_3\", min_value=0.1, max_value=0.5, step=0.1)))\n",
    "    model.add(keras.layers.Dense(params.Int(\"dense_size_3\", min_value=16, max_value=128, step=16),activation='relu'))\n",
    "    model.add(keras.layers.Dropout(params.Float(\"do_4\", min_value=0.1, max_value=0.5, step=0.1)))\n",
    "    model.add(keras.layers.Dense(1,activation='sigmoid'))\n",
    "    \n",
    "    model.compile(optimizer='adam', loss='binary_crossentropy', metrics=[\"accuracy\"])\n",
    "\n",
    "    return model"
   ]
  },
  {
   "cell_type": "code",
   "execution_count": 29,
   "id": "13f261ed-a828-4ae1-9375-18962b8c8e7c",
   "metadata": {},
   "outputs": [],
   "source": [
    "gru_tuner = keras_tuner.RandomSearch(\n",
    "    hypermodel=gru_model_builder,\n",
    "    objective=\"val_accuracy\",\n",
    "    max_trials=3,\n",
    "    executions_per_trial=2,\n",
    "    overwrite=True,\n",
    "    directory=\"models\",\n",
    "    project_name=\"disaster_tweets\",\n",
    ")  "
   ]
  },
  {
   "cell_type": "code",
   "execution_count": 30,
   "id": "ccedc21a-e9a2-46f3-90b4-3e9410278497",
   "metadata": {},
   "outputs": [
    {
     "name": "stdout",
     "output_type": "stream",
     "text": [
      "Trial 3 Complete [00h 00m 08s]\n",
      "val_accuracy: 0.7974392771720886\n",
      "\n",
      "Best val_accuracy So Far: 0.8046618402004242\n",
      "Total elapsed time: 00h 00m 23s\n"
     ]
    }
   ],
   "source": [
    "gru_tuner.search(X_train, y_train, epochs=2, validation_data=(X_validate,y_validate))"
   ]
  },
  {
   "cell_type": "code",
   "execution_count": 31,
   "id": "9f1cbf6f-5859-43e9-aab6-6188b6218318",
   "metadata": {},
   "outputs": [
    {
     "name": "stderr",
     "output_type": "stream",
     "text": [
      "/home/midelan/.local/lib/python3.10/site-packages/keras/src/saving/saving_lib.py:719: UserWarning: Skipping variable loading for optimizer 'adam', because it has 2 variables whereas the saved optimizer has 32 variables. \n",
      "  saveable.load_own_variables(weights_store.get(inner_path))\n"
     ]
    },
    {
     "data": {
      "text/html": [
       "<pre style=\"white-space:pre;overflow-x:auto;line-height:normal;font-family:Menlo,'DejaVu Sans Mono',consolas,'Courier New',monospace\"><span style=\"font-weight: bold\">Model: \"sequential\"</span>\n",
       "</pre>\n"
      ],
      "text/plain": [
       "\u001b[1mModel: \"sequential\"\u001b[0m\n"
      ]
     },
     "metadata": {},
     "output_type": "display_data"
    },
    {
     "data": {
      "text/html": [
       "<pre style=\"white-space:pre;overflow-x:auto;line-height:normal;font-family:Menlo,'DejaVu Sans Mono',consolas,'Courier New',monospace\">┏━━━━━━━━━━━━━━━━━━━━━━━━━━━━━━━━━┳━━━━━━━━━━━━━━━━━━━━━━━━┳━━━━━━━━━━━━━━━┓\n",
       "┃<span style=\"font-weight: bold\"> Layer (type)                    </span>┃<span style=\"font-weight: bold\"> Output Shape           </span>┃<span style=\"font-weight: bold\">       Param # </span>┃\n",
       "┡━━━━━━━━━━━━━━━━━━━━━━━━━━━━━━━━━╇━━━━━━━━━━━━━━━━━━━━━━━━╇━━━━━━━━━━━━━━━┩\n",
       "│ embedding (<span style=\"color: #0087ff; text-decoration-color: #0087ff\">Embedding</span>)           │ (<span style=\"color: #00d7ff; text-decoration-color: #00d7ff\">None</span>, <span style=\"color: #00af00; text-decoration-color: #00af00\">16</span>, <span style=\"color: #00af00; text-decoration-color: #00af00\">96</span>)         │       <span style=\"color: #00af00; text-decoration-color: #00af00\">405,696</span> │\n",
       "├─────────────────────────────────┼────────────────────────┼───────────────┤\n",
       "│ spatial_dropout1d               │ (<span style=\"color: #00d7ff; text-decoration-color: #00d7ff\">None</span>, <span style=\"color: #00af00; text-decoration-color: #00af00\">16</span>, <span style=\"color: #00af00; text-decoration-color: #00af00\">96</span>)         │             <span style=\"color: #00af00; text-decoration-color: #00af00\">0</span> │\n",
       "│ (<span style=\"color: #0087ff; text-decoration-color: #0087ff\">SpatialDropout1D</span>)              │                        │               │\n",
       "├─────────────────────────────────┼────────────────────────┼───────────────┤\n",
       "│ bidirectional (<span style=\"color: #0087ff; text-decoration-color: #0087ff\">Bidirectional</span>)   │ (<span style=\"color: #00d7ff; text-decoration-color: #00d7ff\">None</span>, <span style=\"color: #00af00; text-decoration-color: #00af00\">192</span>)            │       <span style=\"color: #00af00; text-decoration-color: #00af00\">111,744</span> │\n",
       "├─────────────────────────────────┼────────────────────────┼───────────────┤\n",
       "│ dense (<span style=\"color: #0087ff; text-decoration-color: #0087ff\">Dense</span>)                   │ (<span style=\"color: #00d7ff; text-decoration-color: #00d7ff\">None</span>, <span style=\"color: #00af00; text-decoration-color: #00af00\">128</span>)            │        <span style=\"color: #00af00; text-decoration-color: #00af00\">24,704</span> │\n",
       "├─────────────────────────────────┼────────────────────────┼───────────────┤\n",
       "│ dropout (<span style=\"color: #0087ff; text-decoration-color: #0087ff\">Dropout</span>)               │ (<span style=\"color: #00d7ff; text-decoration-color: #00d7ff\">None</span>, <span style=\"color: #00af00; text-decoration-color: #00af00\">128</span>)            │             <span style=\"color: #00af00; text-decoration-color: #00af00\">0</span> │\n",
       "├─────────────────────────────────┼────────────────────────┼───────────────┤\n",
       "│ dense_1 (<span style=\"color: #0087ff; text-decoration-color: #0087ff\">Dense</span>)                 │ (<span style=\"color: #00d7ff; text-decoration-color: #00d7ff\">None</span>, <span style=\"color: #00af00; text-decoration-color: #00af00\">112</span>)            │        <span style=\"color: #00af00; text-decoration-color: #00af00\">14,448</span> │\n",
       "├─────────────────────────────────┼────────────────────────┼───────────────┤\n",
       "│ dropout_1 (<span style=\"color: #0087ff; text-decoration-color: #0087ff\">Dropout</span>)             │ (<span style=\"color: #00d7ff; text-decoration-color: #00d7ff\">None</span>, <span style=\"color: #00af00; text-decoration-color: #00af00\">112</span>)            │             <span style=\"color: #00af00; text-decoration-color: #00af00\">0</span> │\n",
       "├─────────────────────────────────┼────────────────────────┼───────────────┤\n",
       "│ dense_2 (<span style=\"color: #0087ff; text-decoration-color: #0087ff\">Dense</span>)                 │ (<span style=\"color: #00d7ff; text-decoration-color: #00d7ff\">None</span>, <span style=\"color: #00af00; text-decoration-color: #00af00\">48</span>)             │         <span style=\"color: #00af00; text-decoration-color: #00af00\">5,424</span> │\n",
       "├─────────────────────────────────┼────────────────────────┼───────────────┤\n",
       "│ dropout_2 (<span style=\"color: #0087ff; text-decoration-color: #0087ff\">Dropout</span>)             │ (<span style=\"color: #00d7ff; text-decoration-color: #00d7ff\">None</span>, <span style=\"color: #00af00; text-decoration-color: #00af00\">48</span>)             │             <span style=\"color: #00af00; text-decoration-color: #00af00\">0</span> │\n",
       "├─────────────────────────────────┼────────────────────────┼───────────────┤\n",
       "│ dense_3 (<span style=\"color: #0087ff; text-decoration-color: #0087ff\">Dense</span>)                 │ (<span style=\"color: #00d7ff; text-decoration-color: #00d7ff\">None</span>, <span style=\"color: #00af00; text-decoration-color: #00af00\">1</span>)              │            <span style=\"color: #00af00; text-decoration-color: #00af00\">49</span> │\n",
       "└─────────────────────────────────┴────────────────────────┴───────────────┘\n",
       "</pre>\n"
      ],
      "text/plain": [
       "┏━━━━━━━━━━━━━━━━━━━━━━━━━━━━━━━━━┳━━━━━━━━━━━━━━━━━━━━━━━━┳━━━━━━━━━━━━━━━┓\n",
       "┃\u001b[1m \u001b[0m\u001b[1mLayer (type)                   \u001b[0m\u001b[1m \u001b[0m┃\u001b[1m \u001b[0m\u001b[1mOutput Shape          \u001b[0m\u001b[1m \u001b[0m┃\u001b[1m \u001b[0m\u001b[1m      Param #\u001b[0m\u001b[1m \u001b[0m┃\n",
       "┡━━━━━━━━━━━━━━━━━━━━━━━━━━━━━━━━━╇━━━━━━━━━━━━━━━━━━━━━━━━╇━━━━━━━━━━━━━━━┩\n",
       "│ embedding (\u001b[38;5;33mEmbedding\u001b[0m)           │ (\u001b[38;5;45mNone\u001b[0m, \u001b[38;5;34m16\u001b[0m, \u001b[38;5;34m96\u001b[0m)         │       \u001b[38;5;34m405,696\u001b[0m │\n",
       "├─────────────────────────────────┼────────────────────────┼───────────────┤\n",
       "│ spatial_dropout1d               │ (\u001b[38;5;45mNone\u001b[0m, \u001b[38;5;34m16\u001b[0m, \u001b[38;5;34m96\u001b[0m)         │             \u001b[38;5;34m0\u001b[0m │\n",
       "│ (\u001b[38;5;33mSpatialDropout1D\u001b[0m)              │                        │               │\n",
       "├─────────────────────────────────┼────────────────────────┼───────────────┤\n",
       "│ bidirectional (\u001b[38;5;33mBidirectional\u001b[0m)   │ (\u001b[38;5;45mNone\u001b[0m, \u001b[38;5;34m192\u001b[0m)            │       \u001b[38;5;34m111,744\u001b[0m │\n",
       "├─────────────────────────────────┼────────────────────────┼───────────────┤\n",
       "│ dense (\u001b[38;5;33mDense\u001b[0m)                   │ (\u001b[38;5;45mNone\u001b[0m, \u001b[38;5;34m128\u001b[0m)            │        \u001b[38;5;34m24,704\u001b[0m │\n",
       "├─────────────────────────────────┼────────────────────────┼───────────────┤\n",
       "│ dropout (\u001b[38;5;33mDropout\u001b[0m)               │ (\u001b[38;5;45mNone\u001b[0m, \u001b[38;5;34m128\u001b[0m)            │             \u001b[38;5;34m0\u001b[0m │\n",
       "├─────────────────────────────────┼────────────────────────┼───────────────┤\n",
       "│ dense_1 (\u001b[38;5;33mDense\u001b[0m)                 │ (\u001b[38;5;45mNone\u001b[0m, \u001b[38;5;34m112\u001b[0m)            │        \u001b[38;5;34m14,448\u001b[0m │\n",
       "├─────────────────────────────────┼────────────────────────┼───────────────┤\n",
       "│ dropout_1 (\u001b[38;5;33mDropout\u001b[0m)             │ (\u001b[38;5;45mNone\u001b[0m, \u001b[38;5;34m112\u001b[0m)            │             \u001b[38;5;34m0\u001b[0m │\n",
       "├─────────────────────────────────┼────────────────────────┼───────────────┤\n",
       "│ dense_2 (\u001b[38;5;33mDense\u001b[0m)                 │ (\u001b[38;5;45mNone\u001b[0m, \u001b[38;5;34m48\u001b[0m)             │         \u001b[38;5;34m5,424\u001b[0m │\n",
       "├─────────────────────────────────┼────────────────────────┼───────────────┤\n",
       "│ dropout_2 (\u001b[38;5;33mDropout\u001b[0m)             │ (\u001b[38;5;45mNone\u001b[0m, \u001b[38;5;34m48\u001b[0m)             │             \u001b[38;5;34m0\u001b[0m │\n",
       "├─────────────────────────────────┼────────────────────────┼───────────────┤\n",
       "│ dense_3 (\u001b[38;5;33mDense\u001b[0m)                 │ (\u001b[38;5;45mNone\u001b[0m, \u001b[38;5;34m1\u001b[0m)              │            \u001b[38;5;34m49\u001b[0m │\n",
       "└─────────────────────────────────┴────────────────────────┴───────────────┘\n"
      ]
     },
     "metadata": {},
     "output_type": "display_data"
    },
    {
     "data": {
      "text/html": [
       "<pre style=\"white-space:pre;overflow-x:auto;line-height:normal;font-family:Menlo,'DejaVu Sans Mono',consolas,'Courier New',monospace\"><span style=\"font-weight: bold\"> Total params: </span><span style=\"color: #00af00; text-decoration-color: #00af00\">562,065</span> (2.14 MB)\n",
       "</pre>\n"
      ],
      "text/plain": [
       "\u001b[1m Total params: \u001b[0m\u001b[38;5;34m562,065\u001b[0m (2.14 MB)\n"
      ]
     },
     "metadata": {},
     "output_type": "display_data"
    },
    {
     "data": {
      "text/html": [
       "<pre style=\"white-space:pre;overflow-x:auto;line-height:normal;font-family:Menlo,'DejaVu Sans Mono',consolas,'Courier New',monospace\"><span style=\"font-weight: bold\"> Trainable params: </span><span style=\"color: #00af00; text-decoration-color: #00af00\">562,065</span> (2.14 MB)\n",
       "</pre>\n"
      ],
      "text/plain": [
       "\u001b[1m Trainable params: \u001b[0m\u001b[38;5;34m562,065\u001b[0m (2.14 MB)\n"
      ]
     },
     "metadata": {},
     "output_type": "display_data"
    },
    {
     "data": {
      "text/html": [
       "<pre style=\"white-space:pre;overflow-x:auto;line-height:normal;font-family:Menlo,'DejaVu Sans Mono',consolas,'Courier New',monospace\"><span style=\"font-weight: bold\"> Non-trainable params: </span><span style=\"color: #00af00; text-decoration-color: #00af00\">0</span> (0.00 B)\n",
       "</pre>\n"
      ],
      "text/plain": [
       "\u001b[1m Non-trainable params: \u001b[0m\u001b[38;5;34m0\u001b[0m (0.00 B)\n"
      ]
     },
     "metadata": {},
     "output_type": "display_data"
    }
   ],
   "source": [
    "models = gru_tuner.get_best_models(num_models=1)\n",
    "best_model = models[0]\n",
    "best_model.summary()"
   ]
  },
  {
   "cell_type": "code",
   "execution_count": 32,
   "id": "3644bde4-3ba4-445e-ad96-9e7867233134",
   "metadata": {},
   "outputs": [
    {
     "name": "stdout",
     "output_type": "stream",
     "text": [
      "Epoch 1/10\n",
      "\u001b[1m7/7\u001b[0m \u001b[32m━━━━━━━━━━━━━━━━━━━━\u001b[0m\u001b[37m\u001b[0m \u001b[1m2s\u001b[0m 57ms/step - accuracy: 0.5038 - loss: 0.6919 - val_accuracy: 0.5706 - val_loss: 0.6818\n",
      "Epoch 2/10\n",
      "\u001b[1m7/7\u001b[0m \u001b[32m━━━━━━━━━━━━━━━━━━━━\u001b[0m\u001b[37m\u001b[0m \u001b[1m0s\u001b[0m 26ms/step - accuracy: 0.5701 - loss: 0.6820 - val_accuracy: 0.5706 - val_loss: 0.6739\n",
      "Epoch 3/10\n",
      "\u001b[1m7/7\u001b[0m \u001b[32m━━━━━━━━━━━━━━━━━━━━\u001b[0m\u001b[37m\u001b[0m \u001b[1m0s\u001b[0m 26ms/step - accuracy: 0.5736 - loss: 0.6718 - val_accuracy: 0.5778 - val_loss: 0.6492\n",
      "Epoch 4/10\n",
      "\u001b[1m7/7\u001b[0m \u001b[32m━━━━━━━━━━━━━━━━━━━━\u001b[0m\u001b[37m\u001b[0m \u001b[1m0s\u001b[0m 26ms/step - accuracy: 0.6095 - loss: 0.6369 - val_accuracy: 0.7571 - val_loss: 0.5964\n",
      "Epoch 5/10\n",
      "\u001b[1m7/7\u001b[0m \u001b[32m━━━━━━━━━━━━━━━━━━━━\u001b[0m\u001b[37m\u001b[0m \u001b[1m0s\u001b[0m 26ms/step - accuracy: 0.7707 - loss: 0.5802 - val_accuracy: 0.7827 - val_loss: 0.5250\n",
      "Epoch 6/10\n",
      "\u001b[1m7/7\u001b[0m \u001b[32m━━━━━━━━━━━━━━━━━━━━\u001b[0m\u001b[37m\u001b[0m \u001b[1m0s\u001b[0m 26ms/step - accuracy: 0.8310 - loss: 0.4666 - val_accuracy: 0.7997 - val_loss: 0.4933\n",
      "Epoch 7/10\n",
      "\u001b[1m7/7\u001b[0m \u001b[32m━━━━━━━━━━━━━━━━━━━━\u001b[0m\u001b[37m\u001b[0m \u001b[1m0s\u001b[0m 26ms/step - accuracy: 0.8527 - loss: 0.3914 - val_accuracy: 0.7951 - val_loss: 0.5036\n",
      "Epoch 8/10\n",
      "\u001b[1m7/7\u001b[0m \u001b[32m━━━━━━━━━━━━━━━━━━━━\u001b[0m\u001b[37m\u001b[0m \u001b[1m0s\u001b[0m 27ms/step - accuracy: 0.8783 - loss: 0.3327 - val_accuracy: 0.7905 - val_loss: 0.4819\n",
      "Epoch 9/10\n",
      "\u001b[1m7/7\u001b[0m \u001b[32m━━━━━━━━━━━━━━━━━━━━\u001b[0m\u001b[37m\u001b[0m \u001b[1m0s\u001b[0m 27ms/step - accuracy: 0.8884 - loss: 0.3070 - val_accuracy: 0.7781 - val_loss: 0.5015\n",
      "Epoch 10/10\n",
      "\u001b[1m7/7\u001b[0m \u001b[32m━━━━━━━━━━━━━━━━━━━━\u001b[0m\u001b[37m\u001b[0m \u001b[1m0s\u001b[0m 26ms/step - accuracy: 0.9008 - loss: 0.2814 - val_accuracy: 0.7866 - val_loss: 0.5624\n"
     ]
    }
   ],
   "source": [
    "gru_best_hps = gru_tuner.get_best_hyperparameters(1)\n",
    "gru_final_model = gru_model_builder(gru_best_hps[0])\n",
    "callback = keras.callbacks.EarlyStopping(monitor='loss', patience=5)\n",
    "\n",
    "final_gru_model_history = gru_final_model.fit(X_train, \n",
    "                              y_train, \n",
    "                              epochs = 10, \n",
    "                              batch_size=1000, \n",
    "                              verbose = 1, \n",
    "                              callbacks=[callback], \n",
    "                              validation_data=(X_validate,y_validate))"
   ]
  },
  {
   "cell_type": "code",
   "execution_count": 33,
   "id": "0c60020d-f5d1-4d9b-89c7-5d711eca6d6f",
   "metadata": {},
   "outputs": [],
   "source": [
    "def extended_lstm_model_builder(params):\n",
    "    model = keras.Sequential()\n",
    "    model.add(keras.layers.Embedding(len(frequency), params.Int(\"embedding_size\", min_value=32, max_value=256, step=32), input_length = X_train.shape[1]))\n",
    "    model.add(keras.layers.SpatialDropout1D(params.Float(\"do\", min_value=0.1, max_value=0.5, step=0.1)))\n",
    "    model.add(keras.layers.LSTM(params.Int(\"lstm_size_1\", min_value=32, max_value=256, step=32), \n",
    "                                dropout=params.Float(\"do_1\", min_value=0.1, max_value=0.5, step=0.1), \n",
    "                                recurrent_dropout=params.Float(\"rdo_1\", min_value=0.1, max_value=0.5, step=0.1),\n",
    "                                return_sequences=True))\n",
    "    model.add(keras.layers.LSTM(params.Int(\"lstm_size_2\", min_value=32, max_value=256, step=32), \n",
    "                                dropout=params.Float(\"do_2\", min_value=0.1, max_value=0.5, step=0.1), \n",
    "                                recurrent_dropout=params.Float(\"rdo_2\", min_value=0.1, max_value=0.5, step=0.1)))\n",
    "    model.add(keras.layers.Dense(params.Int(\"dense_size_1\", min_value=16, max_value=128, step=16),activation='relu'))\n",
    "    model.add(keras.layers.Dropout(params.Float(\"do_3\", min_value=0.1, max_value=0.5, step=0.1)))\n",
    "    model.add(keras.layers.Dense(params.Int(\"dense_size_2\", min_value=16, max_value=128, step=16),activation='relu'))\n",
    "    model.add(keras.layers.Dropout(params.Float(\"do_4\", min_value=0.1, max_value=0.5, step=0.1)))\n",
    "    model.add(keras.layers.Dense(params.Int(\"dense_size_3\", min_value=16, max_value=128, step=16),activation='relu'))\n",
    "    model.add(keras.layers.Dropout(params.Float(\"do_5\", min_value=0.1, max_value=0.5, step=0.1)))\n",
    "    model.add(keras.layers.Dense(1,activation='sigmoid'))\n",
    "    \n",
    "    model.compile(optimizer='adam', loss='binary_crossentropy', metrics=[\"accuracy\"])\n",
    "\n",
    "    return model"
   ]
  },
  {
   "cell_type": "code",
   "execution_count": 34,
   "id": "66d837f2-a55f-4365-b9b5-e7312d0c12f7",
   "metadata": {},
   "outputs": [],
   "source": [
    "extended_lstm_tuner = keras_tuner.RandomSearch(\n",
    "    hypermodel=extended_lstm_model_builder,\n",
    "    objective=\"val_accuracy\",\n",
    "    max_trials=3,\n",
    "    executions_per_trial=2,\n",
    "    overwrite=True,\n",
    "    directory=\"models\",\n",
    "    project_name=\"disaster_tweets\",\n",
    ")  "
   ]
  },
  {
   "cell_type": "code",
   "execution_count": 35,
   "id": "ad1166ff-a833-4e08-8af8-16b43241f0c6",
   "metadata": {},
   "outputs": [
    {
     "name": "stdout",
     "output_type": "stream",
     "text": [
      "Trial 3 Complete [00h 00m 10s]\n",
      "val_accuracy: 0.8003939390182495\n",
      "\n",
      "Best val_accuracy So Far: 0.8023637533187866\n",
      "Total elapsed time: 00h 00m 33s\n"
     ]
    }
   ],
   "source": [
    "extended_lstm_tuner.search(X_train, y_train, epochs=2, validation_data=(X_validate,y_validate))"
   ]
  },
  {
   "cell_type": "code",
   "execution_count": 36,
   "id": "3187e386-f2b5-441a-b79d-ac1bd308facc",
   "metadata": {},
   "outputs": [
    {
     "data": {
      "text/html": [
       "<pre style=\"white-space:pre;overflow-x:auto;line-height:normal;font-family:Menlo,'DejaVu Sans Mono',consolas,'Courier New',monospace\"><span style=\"font-weight: bold\">Model: \"sequential\"</span>\n",
       "</pre>\n"
      ],
      "text/plain": [
       "\u001b[1mModel: \"sequential\"\u001b[0m\n"
      ]
     },
     "metadata": {},
     "output_type": "display_data"
    },
    {
     "data": {
      "text/html": [
       "<pre style=\"white-space:pre;overflow-x:auto;line-height:normal;font-family:Menlo,'DejaVu Sans Mono',consolas,'Courier New',monospace\">┏━━━━━━━━━━━━━━━━━━━━━━━━━━━━━━━━━┳━━━━━━━━━━━━━━━━━━━━━━━━┳━━━━━━━━━━━━━━━┓\n",
       "┃<span style=\"font-weight: bold\"> Layer (type)                    </span>┃<span style=\"font-weight: bold\"> Output Shape           </span>┃<span style=\"font-weight: bold\">       Param # </span>┃\n",
       "┡━━━━━━━━━━━━━━━━━━━━━━━━━━━━━━━━━╇━━━━━━━━━━━━━━━━━━━━━━━━╇━━━━━━━━━━━━━━━┩\n",
       "│ embedding (<span style=\"color: #0087ff; text-decoration-color: #0087ff\">Embedding</span>)           │ (<span style=\"color: #00d7ff; text-decoration-color: #00d7ff\">None</span>, <span style=\"color: #00af00; text-decoration-color: #00af00\">16</span>, <span style=\"color: #00af00; text-decoration-color: #00af00\">128</span>)        │       <span style=\"color: #00af00; text-decoration-color: #00af00\">540,928</span> │\n",
       "├─────────────────────────────────┼────────────────────────┼───────────────┤\n",
       "│ spatial_dropout1d               │ (<span style=\"color: #00d7ff; text-decoration-color: #00d7ff\">None</span>, <span style=\"color: #00af00; text-decoration-color: #00af00\">16</span>, <span style=\"color: #00af00; text-decoration-color: #00af00\">128</span>)        │             <span style=\"color: #00af00; text-decoration-color: #00af00\">0</span> │\n",
       "│ (<span style=\"color: #0087ff; text-decoration-color: #0087ff\">SpatialDropout1D</span>)              │                        │               │\n",
       "├─────────────────────────────────┼────────────────────────┼───────────────┤\n",
       "│ lstm (<span style=\"color: #0087ff; text-decoration-color: #0087ff\">LSTM</span>)                     │ (<span style=\"color: #00d7ff; text-decoration-color: #00d7ff\">None</span>, <span style=\"color: #00af00; text-decoration-color: #00af00\">16</span>, <span style=\"color: #00af00; text-decoration-color: #00af00\">160</span>)        │       <span style=\"color: #00af00; text-decoration-color: #00af00\">184,960</span> │\n",
       "├─────────────────────────────────┼────────────────────────┼───────────────┤\n",
       "│ lstm_1 (<span style=\"color: #0087ff; text-decoration-color: #0087ff\">LSTM</span>)                   │ (<span style=\"color: #00d7ff; text-decoration-color: #00d7ff\">None</span>, <span style=\"color: #00af00; text-decoration-color: #00af00\">128</span>)            │       <span style=\"color: #00af00; text-decoration-color: #00af00\">147,968</span> │\n",
       "├─────────────────────────────────┼────────────────────────┼───────────────┤\n",
       "│ dense (<span style=\"color: #0087ff; text-decoration-color: #0087ff\">Dense</span>)                   │ (<span style=\"color: #00d7ff; text-decoration-color: #00d7ff\">None</span>, <span style=\"color: #00af00; text-decoration-color: #00af00\">32</span>)             │         <span style=\"color: #00af00; text-decoration-color: #00af00\">4,128</span> │\n",
       "├─────────────────────────────────┼────────────────────────┼───────────────┤\n",
       "│ dropout (<span style=\"color: #0087ff; text-decoration-color: #0087ff\">Dropout</span>)               │ (<span style=\"color: #00d7ff; text-decoration-color: #00d7ff\">None</span>, <span style=\"color: #00af00; text-decoration-color: #00af00\">32</span>)             │             <span style=\"color: #00af00; text-decoration-color: #00af00\">0</span> │\n",
       "├─────────────────────────────────┼────────────────────────┼───────────────┤\n",
       "│ dense_1 (<span style=\"color: #0087ff; text-decoration-color: #0087ff\">Dense</span>)                 │ (<span style=\"color: #00d7ff; text-decoration-color: #00d7ff\">None</span>, <span style=\"color: #00af00; text-decoration-color: #00af00\">16</span>)             │           <span style=\"color: #00af00; text-decoration-color: #00af00\">528</span> │\n",
       "├─────────────────────────────────┼────────────────────────┼───────────────┤\n",
       "│ dropout_1 (<span style=\"color: #0087ff; text-decoration-color: #0087ff\">Dropout</span>)             │ (<span style=\"color: #00d7ff; text-decoration-color: #00d7ff\">None</span>, <span style=\"color: #00af00; text-decoration-color: #00af00\">16</span>)             │             <span style=\"color: #00af00; text-decoration-color: #00af00\">0</span> │\n",
       "├─────────────────────────────────┼────────────────────────┼───────────────┤\n",
       "│ dense_2 (<span style=\"color: #0087ff; text-decoration-color: #0087ff\">Dense</span>)                 │ (<span style=\"color: #00d7ff; text-decoration-color: #00d7ff\">None</span>, <span style=\"color: #00af00; text-decoration-color: #00af00\">128</span>)            │         <span style=\"color: #00af00; text-decoration-color: #00af00\">2,176</span> │\n",
       "├─────────────────────────────────┼────────────────────────┼───────────────┤\n",
       "│ dropout_2 (<span style=\"color: #0087ff; text-decoration-color: #0087ff\">Dropout</span>)             │ (<span style=\"color: #00d7ff; text-decoration-color: #00d7ff\">None</span>, <span style=\"color: #00af00; text-decoration-color: #00af00\">128</span>)            │             <span style=\"color: #00af00; text-decoration-color: #00af00\">0</span> │\n",
       "├─────────────────────────────────┼────────────────────────┼───────────────┤\n",
       "│ dense_3 (<span style=\"color: #0087ff; text-decoration-color: #0087ff\">Dense</span>)                 │ (<span style=\"color: #00d7ff; text-decoration-color: #00d7ff\">None</span>, <span style=\"color: #00af00; text-decoration-color: #00af00\">1</span>)              │           <span style=\"color: #00af00; text-decoration-color: #00af00\">129</span> │\n",
       "└─────────────────────────────────┴────────────────────────┴───────────────┘\n",
       "</pre>\n"
      ],
      "text/plain": [
       "┏━━━━━━━━━━━━━━━━━━━━━━━━━━━━━━━━━┳━━━━━━━━━━━━━━━━━━━━━━━━┳━━━━━━━━━━━━━━━┓\n",
       "┃\u001b[1m \u001b[0m\u001b[1mLayer (type)                   \u001b[0m\u001b[1m \u001b[0m┃\u001b[1m \u001b[0m\u001b[1mOutput Shape          \u001b[0m\u001b[1m \u001b[0m┃\u001b[1m \u001b[0m\u001b[1m      Param #\u001b[0m\u001b[1m \u001b[0m┃\n",
       "┡━━━━━━━━━━━━━━━━━━━━━━━━━━━━━━━━━╇━━━━━━━━━━━━━━━━━━━━━━━━╇━━━━━━━━━━━━━━━┩\n",
       "│ embedding (\u001b[38;5;33mEmbedding\u001b[0m)           │ (\u001b[38;5;45mNone\u001b[0m, \u001b[38;5;34m16\u001b[0m, \u001b[38;5;34m128\u001b[0m)        │       \u001b[38;5;34m540,928\u001b[0m │\n",
       "├─────────────────────────────────┼────────────────────────┼───────────────┤\n",
       "│ spatial_dropout1d               │ (\u001b[38;5;45mNone\u001b[0m, \u001b[38;5;34m16\u001b[0m, \u001b[38;5;34m128\u001b[0m)        │             \u001b[38;5;34m0\u001b[0m │\n",
       "│ (\u001b[38;5;33mSpatialDropout1D\u001b[0m)              │                        │               │\n",
       "├─────────────────────────────────┼────────────────────────┼───────────────┤\n",
       "│ lstm (\u001b[38;5;33mLSTM\u001b[0m)                     │ (\u001b[38;5;45mNone\u001b[0m, \u001b[38;5;34m16\u001b[0m, \u001b[38;5;34m160\u001b[0m)        │       \u001b[38;5;34m184,960\u001b[0m │\n",
       "├─────────────────────────────────┼────────────────────────┼───────────────┤\n",
       "│ lstm_1 (\u001b[38;5;33mLSTM\u001b[0m)                   │ (\u001b[38;5;45mNone\u001b[0m, \u001b[38;5;34m128\u001b[0m)            │       \u001b[38;5;34m147,968\u001b[0m │\n",
       "├─────────────────────────────────┼────────────────────────┼───────────────┤\n",
       "│ dense (\u001b[38;5;33mDense\u001b[0m)                   │ (\u001b[38;5;45mNone\u001b[0m, \u001b[38;5;34m32\u001b[0m)             │         \u001b[38;5;34m4,128\u001b[0m │\n",
       "├─────────────────────────────────┼────────────────────────┼───────────────┤\n",
       "│ dropout (\u001b[38;5;33mDropout\u001b[0m)               │ (\u001b[38;5;45mNone\u001b[0m, \u001b[38;5;34m32\u001b[0m)             │             \u001b[38;5;34m0\u001b[0m │\n",
       "├─────────────────────────────────┼────────────────────────┼───────────────┤\n",
       "│ dense_1 (\u001b[38;5;33mDense\u001b[0m)                 │ (\u001b[38;5;45mNone\u001b[0m, \u001b[38;5;34m16\u001b[0m)             │           \u001b[38;5;34m528\u001b[0m │\n",
       "├─────────────────────────────────┼────────────────────────┼───────────────┤\n",
       "│ dropout_1 (\u001b[38;5;33mDropout\u001b[0m)             │ (\u001b[38;5;45mNone\u001b[0m, \u001b[38;5;34m16\u001b[0m)             │             \u001b[38;5;34m0\u001b[0m │\n",
       "├─────────────────────────────────┼────────────────────────┼───────────────┤\n",
       "│ dense_2 (\u001b[38;5;33mDense\u001b[0m)                 │ (\u001b[38;5;45mNone\u001b[0m, \u001b[38;5;34m128\u001b[0m)            │         \u001b[38;5;34m2,176\u001b[0m │\n",
       "├─────────────────────────────────┼────────────────────────┼───────────────┤\n",
       "│ dropout_2 (\u001b[38;5;33mDropout\u001b[0m)             │ (\u001b[38;5;45mNone\u001b[0m, \u001b[38;5;34m128\u001b[0m)            │             \u001b[38;5;34m0\u001b[0m │\n",
       "├─────────────────────────────────┼────────────────────────┼───────────────┤\n",
       "│ dense_3 (\u001b[38;5;33mDense\u001b[0m)                 │ (\u001b[38;5;45mNone\u001b[0m, \u001b[38;5;34m1\u001b[0m)              │           \u001b[38;5;34m129\u001b[0m │\n",
       "└─────────────────────────────────┴────────────────────────┴───────────────┘\n"
      ]
     },
     "metadata": {},
     "output_type": "display_data"
    },
    {
     "data": {
      "text/html": [
       "<pre style=\"white-space:pre;overflow-x:auto;line-height:normal;font-family:Menlo,'DejaVu Sans Mono',consolas,'Courier New',monospace\"><span style=\"font-weight: bold\"> Total params: </span><span style=\"color: #00af00; text-decoration-color: #00af00\">880,817</span> (3.36 MB)\n",
       "</pre>\n"
      ],
      "text/plain": [
       "\u001b[1m Total params: \u001b[0m\u001b[38;5;34m880,817\u001b[0m (3.36 MB)\n"
      ]
     },
     "metadata": {},
     "output_type": "display_data"
    },
    {
     "data": {
      "text/html": [
       "<pre style=\"white-space:pre;overflow-x:auto;line-height:normal;font-family:Menlo,'DejaVu Sans Mono',consolas,'Courier New',monospace\"><span style=\"font-weight: bold\"> Trainable params: </span><span style=\"color: #00af00; text-decoration-color: #00af00\">880,817</span> (3.36 MB)\n",
       "</pre>\n"
      ],
      "text/plain": [
       "\u001b[1m Trainable params: \u001b[0m\u001b[38;5;34m880,817\u001b[0m (3.36 MB)\n"
      ]
     },
     "metadata": {},
     "output_type": "display_data"
    },
    {
     "data": {
      "text/html": [
       "<pre style=\"white-space:pre;overflow-x:auto;line-height:normal;font-family:Menlo,'DejaVu Sans Mono',consolas,'Courier New',monospace\"><span style=\"font-weight: bold\"> Non-trainable params: </span><span style=\"color: #00af00; text-decoration-color: #00af00\">0</span> (0.00 B)\n",
       "</pre>\n"
      ],
      "text/plain": [
       "\u001b[1m Non-trainable params: \u001b[0m\u001b[38;5;34m0\u001b[0m (0.00 B)\n"
      ]
     },
     "metadata": {},
     "output_type": "display_data"
    }
   ],
   "source": [
    "models = extended_lstm_tuner.get_best_models(num_models=1)\n",
    "best_model = models[0]\n",
    "best_model.summary()"
   ]
  },
  {
   "cell_type": "code",
   "execution_count": 37,
   "id": "60188315-7248-4929-9529-61dd93573cbe",
   "metadata": {},
   "outputs": [
    {
     "name": "stdout",
     "output_type": "stream",
     "text": [
      "Epoch 1/20\n",
      "\u001b[1m7/7\u001b[0m \u001b[32m━━━━━━━━━━━━━━━━━━━━\u001b[0m\u001b[37m\u001b[0m \u001b[1m2s\u001b[0m 55ms/step - accuracy: 0.4863 - loss: 0.6939 - val_accuracy: 0.5706 - val_loss: 0.6902\n",
      "Epoch 2/20\n",
      "\u001b[1m7/7\u001b[0m \u001b[32m━━━━━━━━━━━━━━━━━━━━\u001b[0m\u001b[37m\u001b[0m \u001b[1m0s\u001b[0m 23ms/step - accuracy: 0.5704 - loss: 0.6896 - val_accuracy: 0.5706 - val_loss: 0.6845\n",
      "Epoch 3/20\n",
      "\u001b[1m7/7\u001b[0m \u001b[32m━━━━━━━━━━━━━━━━━━━━\u001b[0m\u001b[37m\u001b[0m \u001b[1m0s\u001b[0m 22ms/step - accuracy: 0.5729 - loss: 0.6835 - val_accuracy: 0.5706 - val_loss: 0.6748\n",
      "Epoch 4/20\n",
      "\u001b[1m7/7\u001b[0m \u001b[32m━━━━━━━━━━━━━━━━━━━━\u001b[0m\u001b[37m\u001b[0m \u001b[1m0s\u001b[0m 22ms/step - accuracy: 0.5689 - loss: 0.6786 - val_accuracy: 0.5706 - val_loss: 0.6690\n",
      "Epoch 5/20\n",
      "\u001b[1m7/7\u001b[0m \u001b[32m━━━━━━━━━━━━━━━━━━━━\u001b[0m\u001b[37m\u001b[0m \u001b[1m0s\u001b[0m 21ms/step - accuracy: 0.5653 - loss: 0.6762 - val_accuracy: 0.5706 - val_loss: 0.6616\n",
      "Epoch 6/20\n",
      "\u001b[1m7/7\u001b[0m \u001b[32m━━━━━━━━━━━━━━━━━━━━\u001b[0m\u001b[37m\u001b[0m \u001b[1m0s\u001b[0m 21ms/step - accuracy: 0.5714 - loss: 0.6629 - val_accuracy: 0.5706 - val_loss: 0.6467\n",
      "Epoch 7/20\n",
      "\u001b[1m7/7\u001b[0m \u001b[32m━━━━━━━━━━━━━━━━━━━━\u001b[0m\u001b[37m\u001b[0m \u001b[1m0s\u001b[0m 22ms/step - accuracy: 0.5920 - loss: 0.6476 - val_accuracy: 0.7019 - val_loss: 0.6198\n",
      "Epoch 8/20\n",
      "\u001b[1m7/7\u001b[0m \u001b[32m━━━━━━━━━━━━━━━━━━━━\u001b[0m\u001b[37m\u001b[0m \u001b[1m0s\u001b[0m 21ms/step - accuracy: 0.6978 - loss: 0.6137 - val_accuracy: 0.7656 - val_loss: 0.5691\n",
      "Epoch 9/20\n",
      "\u001b[1m7/7\u001b[0m \u001b[32m━━━━━━━━━━━━━━━━━━━━\u001b[0m\u001b[37m\u001b[0m \u001b[1m0s\u001b[0m 22ms/step - accuracy: 0.7836 - loss: 0.5492 - val_accuracy: 0.7853 - val_loss: 0.5018\n",
      "Epoch 10/20\n",
      "\u001b[1m7/7\u001b[0m \u001b[32m━━━━━━━━━━━━━━━━━━━━\u001b[0m\u001b[37m\u001b[0m \u001b[1m0s\u001b[0m 22ms/step - accuracy: 0.8174 - loss: 0.4760 - val_accuracy: 0.8070 - val_loss: 0.4610\n",
      "Epoch 11/20\n",
      "\u001b[1m7/7\u001b[0m \u001b[32m━━━━━━━━━━━━━━━━━━━━\u001b[0m\u001b[37m\u001b[0m \u001b[1m0s\u001b[0m 22ms/step - accuracy: 0.8402 - loss: 0.4210 - val_accuracy: 0.8030 - val_loss: 0.4573\n",
      "Epoch 12/20\n",
      "\u001b[1m7/7\u001b[0m \u001b[32m━━━━━━━━━━━━━━━━━━━━\u001b[0m\u001b[37m\u001b[0m \u001b[1m0s\u001b[0m 21ms/step - accuracy: 0.8524 - loss: 0.3897 - val_accuracy: 0.8070 - val_loss: 0.4717\n",
      "Epoch 13/20\n",
      "\u001b[1m7/7\u001b[0m \u001b[32m━━━━━━━━━━━━━━━━━━━━\u001b[0m\u001b[37m\u001b[0m \u001b[1m0s\u001b[0m 21ms/step - accuracy: 0.8611 - loss: 0.3760 - val_accuracy: 0.8050 - val_loss: 0.4592\n",
      "Epoch 14/20\n",
      "\u001b[1m7/7\u001b[0m \u001b[32m━━━━━━━━━━━━━━━━━━━━\u001b[0m\u001b[37m\u001b[0m \u001b[1m0s\u001b[0m 21ms/step - accuracy: 0.8786 - loss: 0.3456 - val_accuracy: 0.8076 - val_loss: 0.4703\n",
      "Epoch 15/20\n",
      "\u001b[1m7/7\u001b[0m \u001b[32m━━━━━━━━━━━━━━━━━━━━\u001b[0m\u001b[37m\u001b[0m \u001b[1m0s\u001b[0m 21ms/step - accuracy: 0.8807 - loss: 0.3390 - val_accuracy: 0.8056 - val_loss: 0.4874\n",
      "Epoch 16/20\n",
      "\u001b[1m7/7\u001b[0m \u001b[32m━━━━━━━━━━━━━━━━━━━━\u001b[0m\u001b[37m\u001b[0m \u001b[1m0s\u001b[0m 21ms/step - accuracy: 0.8884 - loss: 0.3138 - val_accuracy: 0.8030 - val_loss: 0.5116\n",
      "Epoch 17/20\n",
      "\u001b[1m7/7\u001b[0m \u001b[32m━━━━━━━━━━━━━━━━━━━━\u001b[0m\u001b[37m\u001b[0m \u001b[1m0s\u001b[0m 21ms/step - accuracy: 0.8910 - loss: 0.3064 - val_accuracy: 0.7997 - val_loss: 0.5194\n",
      "Epoch 18/20\n",
      "\u001b[1m7/7\u001b[0m \u001b[32m━━━━━━━━━━━━━━━━━━━━\u001b[0m\u001b[37m\u001b[0m \u001b[1m0s\u001b[0m 22ms/step - accuracy: 0.8992 - loss: 0.2895 - val_accuracy: 0.7978 - val_loss: 0.5368\n",
      "Epoch 19/20\n",
      "\u001b[1m7/7\u001b[0m \u001b[32m━━━━━━━━━━━━━━━━━━━━\u001b[0m\u001b[37m\u001b[0m \u001b[1m0s\u001b[0m 21ms/step - accuracy: 0.9088 - loss: 0.2773 - val_accuracy: 0.7984 - val_loss: 0.5510\n",
      "Epoch 20/20\n",
      "\u001b[1m7/7\u001b[0m \u001b[32m━━━━━━━━━━━━━━━━━━━━\u001b[0m\u001b[37m\u001b[0m \u001b[1m0s\u001b[0m 22ms/step - accuracy: 0.9080 - loss: 0.2603 - val_accuracy: 0.7958 - val_loss: 0.5515\n"
     ]
    }
   ],
   "source": [
    "extended_lstm_best_hps = extended_lstm_tuner.get_best_hyperparameters(1)\n",
    "extended_lstm_final_model = extended_lstm_model_builder(lstm_best_hps[0])\n",
    "callback = keras.callbacks.EarlyStopping(monitor='loss', patience=5)\n",
    "\n",
    "final_extended_lstm_model_history = extended_lstm_final_model.fit(X_train, \n",
    "                              y_train, \n",
    "                              epochs = 20, \n",
    "                              batch_size=1000, \n",
    "                              verbose = 1, \n",
    "                              callbacks=[callback], \n",
    "                              validation_data=(X_validate,y_validate))"
   ]
  },
  {
   "cell_type": "markdown",
   "id": "6b819015-75e2-4e73-9c3e-795effd0a688",
   "metadata": {},
   "source": [
    "### Results and Analysis\n",
    "\n",
    "For each of the three models described above, we set up Keras hyperparameter tuners to walk through the layer size and dropout rates of each layer, and the learning rates of each model, and graph our train/test results below. We see clear indications of overfitting in both the GRU and the Extended LSTM models with our test loss increasing after 5-10 epochs. However the baseline LSTM model does not show any such indications after it completes training and achieves a respectable ~79% validation accuracy during training, so we choose to move forwards with that model.\n",
    "\n",
    "Using our unlabelled test data we perform the same data manipulations as we performed on the test data, but only keep words found in our training dictionary as any word not known to our dictionary would be meaningless in terms of the model. We observe in a sample of the test data with predictions appended that it appears we are successfully detecting most disaster tweets, although some with special characters and place names seem to evade this model. As a sanity check we validate that we produce a ratio of disaster to non disaster tweets roughly similar to the training data."
   ]
  },
  {
   "cell_type": "code",
   "execution_count": 38,
   "id": "5641d5ea-0369-4206-af5d-4658fafe6b2d",
   "metadata": {},
   "outputs": [
    {
     "data": {
      "image/png": "[encoded data removed]",
      "text/plain": [
       "<Figure size 1200x600 with 6 Axes>"
      ]
     },
     "metadata": {},
     "output_type": "display_data"
    }
   ],
   "source": [
    "fig, axs = plt.subplots(2,3,figsize=(12, 6))\n",
    "histories = [final_lstm_model_history,final_gru_model_history,final_extended_lstm_model_history]\n",
    "names = [\"LSTM\",\"GRU\",\"Extended LSTM\"]\n",
    "index = 0\n",
    "for history in histories:\n",
    "    ax = axs[0,index]\n",
    "    ax.plot(history.history['accuracy'])\n",
    "    ax.plot(history.history['val_accuracy'])\n",
    "    ax.title.set_text(names[index])\n",
    "    ax.set(xlabel='epoch', ylabel='accuracy')\n",
    "    ax.legend(['train', 'test'], loc='upper left')\n",
    "    index = index+1\n",
    "\n",
    "index = 0\n",
    "for history in histories:\n",
    "    ax = axs[1,index]\n",
    "    ax.plot(history.history['loss'])\n",
    "    ax.plot(history.history['val_loss'])\n",
    "    ax.title.set_text(names[index])\n",
    "    ax.set(xlabel='epoch', ylabel='loss')\n",
    "    ax.legend(['train', 'test'], loc='upper left')\n",
    "    index = index+1\n",
    "plt.tight_layout()\n",
    "plt.show()"
   ]
  },
  {
   "cell_type": "code",
   "execution_count": 39,
   "id": "48a1155a-573d-4d9d-a9d0-f810bb21a8bb",
   "metadata": {},
   "outputs": [
    {
     "name": "stdout",
     "output_type": "stream",
     "text": [
      "\u001b[1m12/12\u001b[0m \u001b[32m━━━━━━━━━━━━━━━━━━━━\u001b[0m\u001b[37m\u001b[0m \u001b[1m0s\u001b[0m 5ms/step - accuracy: 0.8032 - loss: 0.4446\n"
     ]
    },
    {
     "data": {
      "text/plain": [
       "[0.449951171875, 0.7977675795555115]"
      ]
     },
     "execution_count": 39,
     "metadata": {},
     "output_type": "execute_result"
    }
   ],
   "source": [
    "predictions = lstm_final_model.evaluate(X_validate, y_validate, batch_size=128)\n",
    "predictions"
   ]
  },
  {
   "cell_type": "code",
   "execution_count": 42,
   "id": "f37c24db-7fa1-42bc-92c9-16e171a4d891",
   "metadata": {},
   "outputs": [],
   "source": [
    "def removeWordsNotInDict(text, dictionary):\n",
    "    tweet = \"\"\n",
    "    for word in text.split():\n",
    "        if (dictionary[word]!=0):\n",
    "            tweet = tweet + \" \" + word\n",
    "    return tweet"
   ]
  },
  {
   "cell_type": "code",
   "execution_count": 43,
   "id": "e6e39d22-8128-499b-8def-41f6d1edb92c",
   "metadata": {},
   "outputs": [],
   "source": [
    "test_data_path = os.path.join(os.path.dirname(notebook_path), \"RawImports/test.csv\")\n",
    "test_data = pd.read_csv(test_data_path)\n",
    "test_data[\"text_filtered\"] = test_data.apply(lambda x: removePunctuationAndStops(x['text']), axis=1)\n",
    "test_data[\"text_reduced\"] = test_data.apply(lambda x: removeWordsNotInDict(x['text_filtered'], frequency), axis=1)\n",
    "test_data_sequences = tokenizer.texts_to_sequences(test_data['text_reduced'].values)\n",
    "test_data_sequences = pad_sequences(test_data_sequences)"
   ]
  },
  {
   "cell_type": "code",
   "execution_count": 45,
   "id": "918f1466-7527-4eb6-8e5e-8888d35717f9",
   "metadata": {},
   "outputs": [
    {
     "data": {
      "text/plain": [
       "array([[   0,    0,    0, ...,  674, 1829,   17],\n",
       "       [   0,    0,    0, ...,  384, 1360,  128],\n",
       "       [   0,    0,    0, ...,  667,  371,  201],\n",
       "       ...,\n",
       "       [   0,    0,    0, ...,  463,  223, 1105],\n",
       "       [   0,    0,    0, ...,  336,  136, 1279],\n",
       "       [   0,    0,    0, ..., 1395,    7,   88]], dtype=int32)"
      ]
     },
     "execution_count": 45,
     "metadata": {},
     "output_type": "execute_result"
    }
   ],
   "source": [
    "test_data_sequences"
   ]
  },
  {
   "cell_type": "code",
   "execution_count": 72,
   "id": "e80680d9-009a-42c6-ab93-db03f47491c8",
   "metadata": {},
   "outputs": [
    {
     "name": "stdout",
     "output_type": "stream",
     "text": [
      "\u001b[1m102/102\u001b[0m \u001b[32m━━━━━━━━━━━━━━━━━━━━\u001b[0m\u001b[37m\u001b[0m \u001b[1m0s\u001b[0m 3ms/step\n"
     ]
    }
   ],
   "source": [
    "predictions=lstm_final_model.predict(test_data_sequences) \n",
    "test_data['target'] = predictions\n",
    "test_data.loc[test_data['target'] <= 0.5, 'target'] = 0\n",
    "test_data.loc[test_data['target'] > 0.5, 'target'] = 1\n",
    "test_data.target = test_data.target.astype(int)"
   ]
  },
  {
   "cell_type": "code",
   "execution_count": 73,
   "id": "778770f7-0138-4d9b-9d96-ee022e6b93e1",
   "metadata": {},
   "outputs": [
    {
     "data": {
      "text/html": [
       "<div>\n",
       "<style scoped>\n",
       "    .dataframe tbody tr th:only-of-type {\n",
       "        vertical-align: middle;\n",
       "    }\n",
       "\n",
       "    .dataframe tbody tr th {\n",
       "        vertical-align: top;\n",
       "    }\n",
       "\n",
       "    .dataframe thead th {\n",
       "        text-align: right;\n",
       "    }\n",
       "</style>\n",
       "<table border=\"1\" class=\"dataframe\">\n",
       "  <thead>\n",
       "    <tr style=\"text-align: right;\">\n",
       "      <th></th>\n",
       "      <th>id</th>\n",
       "      <th>keyword</th>\n",
       "      <th>location</th>\n",
       "      <th>text</th>\n",
       "      <th>text_filtered</th>\n",
       "      <th>text_reduced</th>\n",
       "      <th>target</th>\n",
       "    </tr>\n",
       "  </thead>\n",
       "  <tbody>\n",
       "    <tr>\n",
       "      <th>0</th>\n",
       "      <td>0</td>\n",
       "      <td>NaN</td>\n",
       "      <td>NaN</td>\n",
       "      <td>Just happened a terrible car crash</td>\n",
       "      <td>Just happened terrible car crash</td>\n",
       "      <td>Just happened terrible crash</td>\n",
       "      <td>0</td>\n",
       "    </tr>\n",
       "    <tr>\n",
       "      <th>1</th>\n",
       "      <td>2</td>\n",
       "      <td>NaN</td>\n",
       "      <td>NaN</td>\n",
       "      <td>Heard about #earthquake is different cities, s...</td>\n",
       "      <td>Heard earthquake different city stay safe eve...</td>\n",
       "      <td>earthquake different city stay safe everyone</td>\n",
       "      <td>1</td>\n",
       "    </tr>\n",
       "    <tr>\n",
       "      <th>2</th>\n",
       "      <td>3</td>\n",
       "      <td>NaN</td>\n",
       "      <td>NaN</td>\n",
       "      <td>there is a forest fire at spot pond, geese are...</td>\n",
       "      <td>forest fire spot pond goose fleeing across st...</td>\n",
       "      <td>forest fire spot pond across street save</td>\n",
       "      <td>1</td>\n",
       "    </tr>\n",
       "    <tr>\n",
       "      <th>3</th>\n",
       "      <td>9</td>\n",
       "      <td>NaN</td>\n",
       "      <td>NaN</td>\n",
       "      <td>Apocalypse lighting. #Spokane #wildfires</td>\n",
       "      <td>Apocalypse lighting Spokane wildfire</td>\n",
       "      <td>Apocalypse lighting wildfire</td>\n",
       "      <td>1</td>\n",
       "    </tr>\n",
       "    <tr>\n",
       "      <th>4</th>\n",
       "      <td>11</td>\n",
       "      <td>NaN</td>\n",
       "      <td>NaN</td>\n",
       "      <td>Typhoon Soudelor kills 28 in China and Taiwan</td>\n",
       "      <td>Typhoon Soudelor kill 28 China Taiwan</td>\n",
       "      <td>Typhoon Soudelor kill China Taiwan</td>\n",
       "      <td>1</td>\n",
       "    </tr>\n",
       "    <tr>\n",
       "      <th>...</th>\n",
       "      <td>...</td>\n",
       "      <td>...</td>\n",
       "      <td>...</td>\n",
       "      <td>...</td>\n",
       "      <td>...</td>\n",
       "      <td>...</td>\n",
       "      <td>...</td>\n",
       "    </tr>\n",
       "    <tr>\n",
       "      <th>3258</th>\n",
       "      <td>10861</td>\n",
       "      <td>NaN</td>\n",
       "      <td>NaN</td>\n",
       "      <td>EARTHQUAKE SAFETY LOS ANGELES ÛÒ SAFETY FASTE...</td>\n",
       "      <td>EARTHQUAKE SAFETY LOS ANGELES ÛÒ SAFETY FAST...</td>\n",
       "      <td></td>\n",
       "      <td>0</td>\n",
       "    </tr>\n",
       "    <tr>\n",
       "      <th>3259</th>\n",
       "      <td>10865</td>\n",
       "      <td>NaN</td>\n",
       "      <td>NaN</td>\n",
       "      <td>Storm in RI worse than last hurricane. My city...</td>\n",
       "      <td>Storm RI worse last hurricane My cityamp3othe...</td>\n",
       "      <td>Storm worse last hurricane look like bombed A...</td>\n",
       "      <td>1</td>\n",
       "    </tr>\n",
       "    <tr>\n",
       "      <th>3260</th>\n",
       "      <td>10868</td>\n",
       "      <td>NaN</td>\n",
       "      <td>NaN</td>\n",
       "      <td>Green Line derailment in Chicago http://t.co/U...</td>\n",
       "      <td>Green Line derailment Chicago httptcoUtbXLcBIuY</td>\n",
       "      <td>Green Line derailment Chicago</td>\n",
       "      <td>1</td>\n",
       "    </tr>\n",
       "    <tr>\n",
       "      <th>3261</th>\n",
       "      <td>10874</td>\n",
       "      <td>NaN</td>\n",
       "      <td>NaN</td>\n",
       "      <td>MEG issues Hazardous Weather Outlook (HWO) htt...</td>\n",
       "      <td>MEG issue Hazardous Weather Outlook HWO httpt...</td>\n",
       "      <td>issue Hazardous Weather Outlook</td>\n",
       "      <td>1</td>\n",
       "    </tr>\n",
       "    <tr>\n",
       "      <th>3262</th>\n",
       "      <td>10875</td>\n",
       "      <td>NaN</td>\n",
       "      <td>NaN</td>\n",
       "      <td>#CityofCalgary has activated its Municipal Eme...</td>\n",
       "      <td>CityofCalgary activated Municipal Emergency P...</td>\n",
       "      <td>activated Municipal Emergency Plan</td>\n",
       "      <td>1</td>\n",
       "    </tr>\n",
       "  </tbody>\n",
       "</table>\n",
       "<p>3263 rows × 7 columns</p>\n",
       "</div>"
      ],
      "text/plain": [
       "         id keyword location  \\\n",
       "0         0     NaN      NaN   \n",
       "1         2     NaN      NaN   \n",
       "2         3     NaN      NaN   \n",
       "3         9     NaN      NaN   \n",
       "4        11     NaN      NaN   \n",
       "...     ...     ...      ...   \n",
       "3258  10861     NaN      NaN   \n",
       "3259  10865     NaN      NaN   \n",
       "3260  10868     NaN      NaN   \n",
       "3261  10874     NaN      NaN   \n",
       "3262  10875     NaN      NaN   \n",
       "\n",
       "                                                   text  \\\n",
       "0                    Just happened a terrible car crash   \n",
       "1     Heard about #earthquake is different cities, s...   \n",
       "2     there is a forest fire at spot pond, geese are...   \n",
       "3              Apocalypse lighting. #Spokane #wildfires   \n",
       "4         Typhoon Soudelor kills 28 in China and Taiwan   \n",
       "...                                                 ...   \n",
       "3258  EARTHQUAKE SAFETY LOS ANGELES ÛÒ SAFETY FASTE...   \n",
       "3259  Storm in RI worse than last hurricane. My city...   \n",
       "3260  Green Line derailment in Chicago http://t.co/U...   \n",
       "3261  MEG issues Hazardous Weather Outlook (HWO) htt...   \n",
       "3262  #CityofCalgary has activated its Municipal Eme...   \n",
       "\n",
       "                                          text_filtered  \\\n",
       "0                      Just happened terrible car crash   \n",
       "1      Heard earthquake different city stay safe eve...   \n",
       "2      forest fire spot pond goose fleeing across st...   \n",
       "3                  Apocalypse lighting Spokane wildfire   \n",
       "4                 Typhoon Soudelor kill 28 China Taiwan   \n",
       "...                                                 ...   \n",
       "3258   EARTHQUAKE SAFETY LOS ANGELES ÛÒ SAFETY FAST...   \n",
       "3259   Storm RI worse last hurricane My cityamp3othe...   \n",
       "3260    Green Line derailment Chicago httptcoUtbXLcBIuY   \n",
       "3261   MEG issue Hazardous Weather Outlook HWO httpt...   \n",
       "3262   CityofCalgary activated Municipal Emergency P...   \n",
       "\n",
       "                                           text_reduced  target  \n",
       "0                          Just happened terrible crash       0  \n",
       "1          earthquake different city stay safe everyone       1  \n",
       "2              forest fire spot pond across street save       1  \n",
       "3                          Apocalypse lighting wildfire       1  \n",
       "4                    Typhoon Soudelor kill China Taiwan       1  \n",
       "...                                                 ...     ...  \n",
       "3258                                                          0  \n",
       "3259   Storm worse last hurricane look like bombed A...       1  \n",
       "3260                      Green Line derailment Chicago       1  \n",
       "3261                    issue Hazardous Weather Outlook       1  \n",
       "3262                 activated Municipal Emergency Plan       1  \n",
       "\n",
       "[3263 rows x 7 columns]"
      ]
     },
     "execution_count": 73,
     "metadata": {},
     "output_type": "execute_result"
    }
   ],
   "source": [
    "test_data\n"
   ]
  },
  {
   "cell_type": "code",
   "execution_count": 75,
   "id": "6c395b19-05f3-4452-858c-2b38a1330f2e",
   "metadata": {},
   "outputs": [
    {
     "data": {
      "text/plain": [
       "<Axes: xlabel='target'>"
      ]
     },
     "execution_count": 75,
     "metadata": {},
     "output_type": "execute_result"
    },
    {
     "data": {
      "image/png": "[encoded data removed]",
      "text/plain": [
       "<Figure size 640x480 with 1 Axes>"
      ]
     },
     "metadata": {},
     "output_type": "display_data"
    }
   ],
   "source": [
    "test_data[\"target\"].value_counts().plot(kind=\"bar\")"
   ]
  },
  {
   "cell_type": "code",
   "execution_count": 80,
   "id": "73463f92-0b24-41a1-a437-60fe337a4eb7",
   "metadata": {},
   "outputs": [],
   "source": [
    "output = test_data[[\"id\",\"target\"]]\n",
    "output.to_csv(os.path.join(os.path.dirname(notebook_path), \"output.csv\"), index=False)"
   ]
  },
  {
   "cell_type": "markdown",
   "id": "595b8e7c-7815-4443-b28d-e9b2252b5178",
   "metadata": {},
   "source": [
    "### Conclusion\n",
    "\n",
    "As can be seen in the screenshot in the associated Github repo the test data projections obtained a score of 78.76%, again, a respectable score for an initial proof of concept model that indicates this would be a good route for additional exploration. Especially since this is almost identical to our validation and training accuracy during training so it is likely that simply running the existing model longer would produce an improvement as we have not yet hit overfitting.\n",
    "\n",
    "For additional research, there are a few items already mentioned in this report that may be of particular interest:\n",
    "\n",
    "Using the location data, especially if a dataset with more thorough geolocation data could be found. Disasters likely have many tweets in a short period of time and a small geographical area when the disaster occurs, so it is possible that a model could be devised that not only considers the meaning of an individual tweet, but also the volume of tweets with the same meaning in a given time period and geographical location.\n",
    "\n",
    "If we are using the existing dataset, the consider augmenting the bag of words approach with a Word2Vec or GloVe model to provide additional context to the words used from wider training on other sources, or extend our bag of words to include ngrams of words if using additional computing power that can handle the additional dictionary entries."
   ]
  },
  {
   "cell_type": "code",
   "execution_count": null,
   "id": "f1dea672-add0-4235-bafb-fa1aa5637f67",
   "metadata": {},
   "outputs": [],
   "source": []
  }
 ],
 "metadata": {
  "kernelspec": {
   "display_name": "Python 3 (ipykernel)",
   "language": "python",
   "name": "python3"
  },
  "language_info": {
   "codemirror_mode": {
    "name": "ipython",
    "version": 3
   },
   "file_extension": ".py",
   "mimetype": "text/x-python",
   "name": "python",
   "nbconvert_exporter": "python",
   "pygments_lexer": "ipython3",
   "version": "3.10.12"
  }
 },
 "nbformat": 4,
 "nbformat_minor": 5
}
